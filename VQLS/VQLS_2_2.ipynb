{
 "cells": [
  {
   "cell_type": "code",
   "execution_count": 2,
   "metadata": {},
   "outputs": [],
   "source": [
    "import qiskit\n",
    "from qiskit import QuantumCircuit, QuantumRegister, ClassicalRegister\n",
    "from qiskit import Aer, execute\n",
    "import math\n",
    "import random\n",
    "import numpy as np\n",
    "from scipy.optimize import minimize"
   ]
  },
  {
   "cell_type": "code",
   "execution_count": 10,
   "metadata": {},
   "outputs": [],
   "source": [
    "import numpy as np\n",
    "I = np.asmatrix('1 0;0 1')\n",
    "X = np.asmatrix('0 1;1 0')\n",
    "Y = np.asmatrix('0 0-1j;0+1j 0')\n",
    "Z = np.asmatrix('1 0;0 -1')\n",
    "pauli_i = [I, 0]\n",
    "pauli_x = [X, 1]\n",
    "pauli_y = [Y, 2]\n",
    "pauli_z = [Z, 3]\n",
    "\n",
    "def get_basis_set(num_of_qubit = 1):\n",
    "    basis_set = [pauli_i, pauli_x, pauli_y, pauli_z]\n",
    "    int_set = [pauli_i, pauli_x, pauli_y, pauli_z]\n",
    "    temp_set = []\n",
    "    for i in range (num_of_qubit-1):\n",
    "        for j in range (len(basis_set)):\n",
    "            for k in range (len(int_set)):\n",
    "                a = basis_set[j]\n",
    "                b = int_set[k]\n",
    "                #temp_set.append()\n",
    "                temp_set.append([np.kron(a[0],b[0]),[a[1],b[1]]])\n",
    "        int_set = temp_set\n",
    "        #print(int_set)\n",
    "        temp_set = []\n",
    "    return int_set\n",
    "\n",
    "def get_decomposition(A, num_of_q):\n",
    "    basis = get_basis_set(num_of_q)\n",
    "    dec_list = []\n",
    "    for i in range(len(basis)):\n",
    "        b = basis[i]\n",
    "        coeff = np.trace(A*b[0])/(2**num_of_q)\n",
    "        dec_list.append([coeff, b[1]])\n",
    "    return dec_list\n",
    "def get_arbitary_decomposition(A):\n",
    "    size = A.shape\n",
    "    size = size[0]\n",
    "    power = math.log2(size)\n",
    "    p = int(power)\n",
    "    if (p != power):\n",
    "        p += 1\n",
    "    ret = np.zeros([2**p,2**p], dtype = float)\n",
    "    ret[:size, :size] = A\n",
    "    for i in range(size, 2**p):\n",
    "        ret[i,i] = 1\n",
    "    return get_decomposition(ret, p)"
   ]
  },
  {
   "cell_type": "code",
   "execution_count": 31,
   "metadata": {},
   "outputs": [],
   "source": [
    "backend = Aer.get_backend('qasm_simulator') \n",
    "T=8192\n",
    "shots = T\n",
    "max_credits = 3\n",
    "def cal_cost(angle):\n",
    "    den = 0 \n",
    "    numer = 0\n",
    "    qc = QuantumCircuit(2, 1)\n",
    "    qc.h(0)\n",
    "    qc.ry(angle[0], 1)\n",
    "    qc.z(1)\n",
    "    qc.ry(angle[1], 1)\n",
    "    qc.cz(0, 1)\n",
    "    qc.cz(0, 1)\n",
    "    qc.h(0)\n",
    "    qc.measure(0, 0)\n",
    "    job = execute(qc, backend=backend, shots=shots,max_credits=max_credits)    \n",
    "    result = job.result()\n",
    "    counts = result.get_counts(qc)\n",
    "    m_sum = 0\n",
    "    if \"0\" in list (counts):\n",
    "        m_sum=m_sum+counts[\"0\"]/T\n",
    "    if \"1\" in list (counts):\n",
    "        m_sum=m_sum-counts[\"1\"]/T\n",
    "    den += 2*2*m_sum\n",
    "    qc = QuantumCircuit(2, 1)\n",
    "    qc.h(0)\n",
    "    qc.ry(angle[0], 1)\n",
    "    qc.z(1)\n",
    "    qc.ry(angle[1], 1)\n",
    "    qc.cz(0, 1)\n",
    "    qc.cx(0, 1)\n",
    "    qc.h(0)\n",
    "    qc.measure(0, 0)\n",
    "    job = execute(qc, backend=backend, shots=shots,max_credits=max_credits)    \n",
    "    result = job.result()\n",
    "    counts = result.get_counts(qc)\n",
    "    m_sum = 0\n",
    "    if \"0\" in list (counts):\n",
    "        m_sum=m_sum+counts[\"0\"]/T\n",
    "    if \"1\" in list (counts):\n",
    "        m_sum=m_sum-counts[\"1\"]/T\n",
    "    den += 2*0.5*m_sum\n",
    "    qc = QuantumCircuit(2, 1)\n",
    "    qc.h(0)\n",
    "    qc.ry(angle[0], 1)\n",
    "    qc.z(1)\n",
    "    qc.ry(angle[1], 1)\n",
    "    qc.cx(0, 1)\n",
    "    qc.cz(0, 1)\n",
    "    qc.h(0)\n",
    "    qc.measure(0, 0)\n",
    "    job = execute(qc, backend=backend, shots=shots,max_credits=max_credits)    \n",
    "    result = job.result()\n",
    "    counts = result.get_counts(qc)\n",
    "    m_sum = 0\n",
    "    if \"0\" in list (counts):\n",
    "        m_sum=m_sum+counts[\"0\"]/T\n",
    "    if \"1\" in list (counts):\n",
    "        m_sum=m_sum-counts[\"1\"]/T\n",
    "    den += 2*0.5*m_sum\n",
    "    qc = QuantumCircuit(2, 1)\n",
    "    qc.h(0)\n",
    "    qc.ry(angle[0], 1)\n",
    "    qc.z(1)\n",
    "    qc.ry(angle[1], 1)\n",
    "    qc.cx(0, 1)\n",
    "    qc.cx(0, 1)\n",
    "    qc.h(0)\n",
    "    qc.measure(0, 0)\n",
    "    job = execute(qc, backend=backend, shots=shots,max_credits=max_credits)    \n",
    "    result = job.result()\n",
    "    counts = result.get_counts(qc)\n",
    "    m_sum = 0\n",
    "    if \"0\" in list (counts):\n",
    "        m_sum=m_sum+counts[\"0\"]/T\n",
    "    if \"1\" in list (counts):\n",
    "        m_sum=m_sum-counts[\"1\"]/T\n",
    "    den += 0.5*0.5*m_sum\n",
    "    \n",
    "    qc = QuantumCircuit(3, 1)\n",
    "    qc.h(0)\n",
    "    qc.ry(angle[0], 1)\n",
    "    qc.z(1)\n",
    "    qc.ry(angle[1], 1)\n",
    "    qc.cz(0, 1)\n",
    "    qc.h(2)\n",
    "    qc.cz(0, 2)\n",
    "    qc.cx(1, 2)\n",
    "    qc.h(0)\n",
    "    qc.h(1)\n",
    "    qc.measure(0, 0)\n",
    "    job = execute(qc, backend=backend, shots=shots,max_credits=max_credits)    \n",
    "    result = job.result()\n",
    "    counts = result.get_counts(qc)\n",
    "    m_sum = 0\n",
    "    if \"0\" in list (counts):\n",
    "        m_sum=m_sum+counts[\"0\"]/T\n",
    "    if \"1\" in list (counts):\n",
    "        m_sum=m_sum-counts[\"1\"]/T\n",
    "    numer += 2*2*m_sum\n",
    "    qc = QuantumCircuit(3, 1)\n",
    "    qc.h(0)\n",
    "    qc.ry(angle[0], 1)\n",
    "    qc.z(1)\n",
    "    qc.ry(angle[1], 1)\n",
    "    qc.cz(0, 1)\n",
    "    qc.h(2)\n",
    "    qc.cx(0, 2)\n",
    "    qc.cx(1, 2)\n",
    "    qc.h(0)\n",
    "    qc.h(1)\n",
    "    qc.measure(0, 0)\n",
    "    job = execute(qc, backend=backend, shots=shots,max_credits=max_credits)    \n",
    "    result = job.result()\n",
    "    counts = result.get_counts(qc)\n",
    "    m_sum = 0\n",
    "    if \"0\" in list (counts):\n",
    "        m_sum=m_sum+counts[\"0\"]/T\n",
    "    if \"1\" in list (counts):\n",
    "        m_sum=m_sum-counts[\"1\"]/T\n",
    "    numer += 2*0.5*m_sum\n",
    "    qc = QuantumCircuit(3, 1)\n",
    "    qc.h(0)\n",
    "    qc.ry(angle[0], 1)\n",
    "    qc.z(1)\n",
    "    qc.ry(angle[1], 1)\n",
    "    qc.cx(0, 1)\n",
    "    qc.h(2)\n",
    "    qc.cz(0, 2)\n",
    "    qc.cx(1, 2)\n",
    "    qc.h(0)\n",
    "    qc.h(1)\n",
    "    qc.measure(0, 0)\n",
    "    job = execute(qc, backend=backend, shots=shots,max_credits=max_credits)    \n",
    "    result = job.result()\n",
    "    counts = result.get_counts(qc)\n",
    "    m_sum = 0\n",
    "    if \"0\" in list (counts):\n",
    "        m_sum=m_sum+counts[\"0\"]/T\n",
    "    if \"1\" in list (counts):\n",
    "        m_sum=m_sum-counts[\"1\"]/T\n",
    "    numer += 2*0.5*m_sum\n",
    "    qc = QuantumCircuit(3, 1)\n",
    "    qc.h(0)\n",
    "    qc.ry(angle[0], 1)\n",
    "    qc.z(1)\n",
    "    qc.ry(angle[1], 1)\n",
    "    qc.cx(0, 1)\n",
    "    qc.h(2)\n",
    "    qc.cx(0, 2)\n",
    "    qc.cx(1, 2)\n",
    "    qc.h(0)\n",
    "    qc.h(1)\n",
    "    qc.measure(0, 0)\n",
    "    job = execute(qc, backend=backend, shots=shots,max_credits=max_credits)    \n",
    "    result = job.result()\n",
    "    counts = result.get_counts(qc)\n",
    "    m_sum = 0\n",
    "    if \"0\" in list (counts):\n",
    "        m_sum=m_sum+counts[\"0\"]/T\n",
    "    if \"1\" in list (counts):\n",
    "        m_sum=m_sum-counts[\"1\"]/T\n",
    "    numer += 0.5*0.5*m_sum\n",
    "    cost = 1 - (numer/den)\n",
    "    return abs(cost)"
   ]
  },
  {
   "cell_type": "code",
   "execution_count": null,
   "metadata": {},
   "outputs": [],
   "source": [
    "angle = [0, 1.5714]\n",
    "maxiter = 2000000\n",
    "iters = 0 \n",
    "threshold = 0.0000000047\n",
    "k=0\n",
    "out = minimize(cal_cost, x0=angle, method=\"cobyla\", options={'maxiter':2000}, tol = threshold)\n",
    "print(out)\n",
    "qc = QuantumCircuit(1,1)\n",
    "qc.ry(out.x[0], 0)\n",
    "qc.z(0)\n",
    "qc.ry(out.x[1], 0)\n",
    "print(qc)\n",
    "backend = Aer.get_backend('statevector_simulator')\n",
    "job = execute(qc, backend)\n",
    "result = job.result()\n",
    "outputstate = result.get_statevector(qc, decimals=3)\n",
    "print(outputstate)"
   ]
  },
  {
   "cell_type": "code",
   "execution_count": 17,
   "metadata": {},
   "outputs": [
    {
     "name": "stdout",
     "output_type": "stream",
     "text": [
      "[[ 0.41594118]\n",
      " [-0.24956471]]\n",
      "[[ 0.85749293]\n",
      " [-0.51449576]]\n"
     ]
    }
   ],
   "source": [
    "I = np.asmatrix('1 0;0 1')\n",
    "X = np.asmatrix('0 1;1 0')\n",
    "Y = np.asmatrix('0 0-1j;0+1j 0')\n",
    "Z = np.asmatrix('1 0;0 -1')\n",
    "k = 2*Z + 0.5*X\n",
    "b = np.asmatrix('0.7071;0.7071')\n",
    "ans = np.linalg.inv(k)*b\n",
    "print(ans)\n",
    "print((ans)/np.linalg.norm(ans))"
   ]
  },
  {
   "cell_type": "code",
   "execution_count": 22,
   "metadata": {},
   "outputs": [
    {
     "name": "stdout",
     "output_type": "stream",
     "text": [
      "[0.978+0.j 0.207+0.j]\n"
     ]
    }
   ],
   "source": [
    "qc = QuantumCircuit(1,1)\n",
    "qc.ry(1.58550022, 0)\n",
    "qc.z(0)\n",
    "qc.ry(2.00247779, 0)\n",
    "backend = Aer.get_backend('statevector_simulator')\n",
    "job = execute(qc, backend)\n",
    "result = job.result()\n",
    "outputstate = result.get_statevector(qc, decimals=3)\n",
    "print(outputstate)"
   ]
  },
  {
   "cell_type": "code",
   "execution_count": 12,
   "metadata": {},
   "outputs": [
    {
     "name": "stdout",
     "output_type": "stream",
     "text": [
      "[[1.00000000e+00]\n",
      " [4.91340772e-18]]\n"
     ]
    }
   ],
   "source": [
    "Ry1 = np.matrix([[np.cos(1.24011961/2.), -1*np.sin(1.24011961/2.)], [np.sin(1.24011961/2.), np.cos(1.24011961/2.)]])\n",
    "Ry2 = np.matrix([[np.cos(1.87358632/2.), -1*np.sin(1.87358632/2.)], [np.sin(1.87358632/2.), np.cos(1.87358632/2.)]])\n",
    "zKet = np.matrix('1;0')\n",
    "V = Ry1*Z*Ry1\n",
    "print (V*zKet)"
   ]
  },
  {
   "cell_type": "code",
   "execution_count": 8,
   "metadata": {},
   "outputs": [
    {
     "name": "stdout",
     "output_type": "stream",
     "text": [
      "        ┌───────────┐┌───┐\n",
      "q_0: |0>┤ Ry(0.314) ├┤ Z ├\n",
      "        └───────────┘└───┘\n",
      " c_0: 0 ══════════════════\n",
      "                          \n",
      "[ 0.988+0.j -0.156+0.j]\n"
     ]
    }
   ],
   "source": [
    "qc = QuantumCircuit(1,1)\n",
    "qc.ry(0.314, 0)\n",
    "qc.z(0)\n",
    "print(qc)\n",
    "backend = Aer.get_backend('statevector_simulator')\n",
    "job = execute(qc, backend)\n",
    "result = job.result()\n",
    "outputstate = result.get_statevector(qc, decimals=3)\n",
    "print(outputstate)"
   ]
  },
  {
   "cell_type": "code",
   "execution_count": 13,
   "metadata": {},
   "outputs": [
    {
     "name": "stdout",
     "output_type": "stream",
     "text": [
      "[[0.98770079]\n",
      " [0.15635581]]\n"
     ]
    }
   ],
   "source": [
    "Ry1 = np.matrix([[np.cos(0.314/2.), -1*np.sin(0.314/2.)], [np.sin(0.314/2.), np.cos(0.314/2.)]])\n",
    "V = Ry1*Z\n",
    "print (V*zKet)"
   ]
  },
  {
   "cell_type": "code",
   "execution_count": 24,
   "metadata": {},
   "outputs": [
    {
     "data": {
      "text/plain": [
       "array([0.0732311 , 1.14861015])"
      ]
     },
     "execution_count": 24,
     "metadata": {},
     "output_type": "execute_result"
    }
   ],
   "source": [
    "out.x"
   ]
  },
  {
   "cell_type": "code",
   "execution_count": 54,
   "metadata": {},
   "outputs": [
    {
     "name": "stdout",
     "output_type": "stream",
     "text": [
      "0.0005599999999999494\n",
      "{'0': 50028, '1': 49972}\n"
     ]
    }
   ],
   "source": [
    "backend = Aer.get_backend('qasm_simulator') \n",
    "T=100000\n",
    "shots = T\n",
    "max_credits = 3\n",
    "qc = QuantumCircuit(2, 1)\n",
    "qc.h(0)\n",
    "qc.ry(np.pi/4, 1)\n",
    "qc.z(1)\n",
    "qc.ry(np.pi/2, 1)\n",
    "qc.cx(0, 1)\n",
    "#qc.cz(0, 1)\n",
    "qc.h(0)\n",
    "qc.measure(0, 0)\n",
    "job = execute(qc, backend=backend, shots=T,max_credits=max_credits)    \n",
    "result = job.result()\n",
    "counts = result.get_counts(qc)\n",
    "m_sum = 0\n",
    "if \"0\" in list (counts):\n",
    "    m_sum=m_sum+counts[\"0\"]/T\n",
    "if \"1\" in list (counts):\n",
    "    m_sum=m_sum-counts[\"1\"]/T\n",
    "print(m_sum)\n",
    "from qiskit.tools import visualization\n",
    "print(counts)\n",
    "#visualization.plot_histogram([counts[\"0\"],counts[\"1\"]])"
   ]
  },
  {
   "cell_type": "code",
   "execution_count": 48,
   "metadata": {},
   "outputs": [
    {
     "data": {
      "text/plain": [
       "matrix([[-0.70710678]])"
      ]
     },
     "execution_count": 48,
     "metadata": {},
     "output_type": "execute_result"
    }
   ],
   "source": [
    "Ry1 = np.matrix([[np.cos((np.pi/4)/2.), -1*np.sin((np.pi/4)/2.)], [np.sin((np.pi/4)/2.), np.cos((np.pi/4)/2.)]])\n",
    "Ry2 = np.matrix([[np.cos((np.pi/2)/2.), -1*np.sin((np.pi/2)/2.)], [np.sin((np.pi/2)/2.), np.cos((np.pi/2)/2.)]])\n",
    "V = Ry1*Z*Ry2\n",
    "zKet = np.matrix('1;0')\n",
    "si = V*zKet\n",
    "si.T*X*si"
   ]
  },
  {
   "cell_type": "code",
   "execution_count": null,
   "metadata": {},
   "outputs": [],
   "source": []
  }
 ],
 "metadata": {
  "kernelspec": {
   "display_name": "Python 3",
   "language": "python",
   "name": "python3"
  },
  "language_info": {
   "codemirror_mode": {
    "name": "ipython",
    "version": 3
   },
   "file_extension": ".py",
   "mimetype": "text/x-python",
   "name": "python",
   "nbconvert_exporter": "python",
   "pygments_lexer": "ipython3",
   "version": "3.7.4"
  }
 },
 "nbformat": 4,
 "nbformat_minor": 2
}
