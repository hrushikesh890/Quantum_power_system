{
 "cells": [
  {
   "cell_type": "code",
   "execution_count": 6,
   "metadata": {},
   "outputs": [],
   "source": [
    "import numpy as np\n",
    "I = np.asmatrix('1 0;0 1')\n",
    "X = np.asmatrix('0 1;1 0')\n",
    "Y = np.asmatrix('0 0-1j;0+1j 0')\n",
    "Z = np.asmatrix('1 0;0 -1')\n",
    "pauli_i = [I, 0]\n",
    "pauli_x = [X, 1]\n",
    "pauli_y = [Y, 2]\n",
    "pauli_z = [Z, 3]\n",
    "\n",
    "def get_basis_set(num_of_qubit = 1):\n",
    "    basis_set = [pauli_i, pauli_x, pauli_y, pauli_z]\n",
    "    int_set = [pauli_i, pauli_x, pauli_y, pauli_z]\n",
    "    temp_set = []\n",
    "    for i in range (num_of_qubit-1):\n",
    "        for j in range (len(basis_set)):\n",
    "            for k in range (len(int_set)):\n",
    "                a = basis_set[j]\n",
    "                b = int_set[k]\n",
    "                #temp_set.append()\n",
    "                temp_set.append([np.kron(a[0],b[0]),a[1]+b[1]])\n",
    "        int_set = temp_set\n",
    "        #print(int_set)\n",
    "        temp_set = []\n",
    "    return int_set\n",
    "\n",
    "def get_decomposition(A, num_of_q):\n",
    "    basis = get_basis_set(num_of_q)\n",
    "    dec_list = []\n",
    "    for i in range(len(basis)):\n",
    "        b = basis[i]\n",
    "        coeff = np.trace(A*b[0])/(2**num_of_q)\n",
    "        dec_list.append([coeff, b[1]])\n",
    "    return dec_list"
   ]
  },
  {
   "cell_type": "code",
   "execution_count": 7,
   "metadata": {},
   "outputs": [
    {
     "data": {
      "text/plain": [
       "[[matrix([[1, 0],\n",
       "          [0, 1]]), 'I'], [matrix([[0, 1],\n",
       "          [1, 0]]), 'X'], [matrix([[0.+0.j, 0.-1.j],\n",
       "          [0.+1.j, 0.+0.j]]), 'Y'], [matrix([[ 1,  0],\n",
       "          [ 0, -1]]), 'Z']]"
      ]
     },
     "execution_count": 7,
     "metadata": {},
     "output_type": "execute_result"
    }
   ],
   "source": [
    "get_basis_set(1)"
   ]
  },
  {
   "cell_type": "code",
   "execution_count": 8,
   "metadata": {},
   "outputs": [
    {
     "data": {
      "text/plain": [
       "[[0.5, 'I'], [1.0, 'X'], [0j, 'Y'], [2.5, 'Z']]"
      ]
     },
     "execution_count": 8,
     "metadata": {},
     "output_type": "execute_result"
    }
   ],
   "source": [
    "a = np.asmatrix('3 1; 1 -2')\n",
    "get_decomposition(a,1)"
   ]
  },
  {
   "cell_type": "code",
   "execution_count": 9,
   "metadata": {},
   "outputs": [
    {
     "data": {
      "text/plain": [
       "[[3.75, 'II'],\n",
       " [2.0, 'IX'],\n",
       " [0j, 'IY'],\n",
       " [1.25, 'IZ'],\n",
       " [2.5, 'XI'],\n",
       " [2.25, 'XX'],\n",
       " [0.25j, 'XY'],\n",
       " [1.0, 'XZ'],\n",
       " [-0.5j, 'YI'],\n",
       " [0.25j, 'YX'],\n",
       " [(0.75+0j), 'YY'],\n",
       " [0j, 'YZ'],\n",
       " [-1.25, 'ZI'],\n",
       " [-1.0, 'ZX'],\n",
       " [0j, 'ZY'],\n",
       " [-0.75, 'ZZ']]"
      ]
     },
     "execution_count": 9,
     "metadata": {},
     "output_type": "execute_result"
    }
   ],
   "source": [
    "import math \n",
    "def get_arbitary_decomposition(A):\n",
    "    size = A.shape\n",
    "    size = size[0]\n",
    "    power = math.log2(size)\n",
    "    p = int(power)\n",
    "    if (p != power):\n",
    "        p += 1\n",
    "    ret = np.zeros([2**p,2**p], dtype = float)\n",
    "    ret[:size, :size] = A\n",
    "    for i in range(size, 2**p):\n",
    "        ret[i,i] = 1\n",
    "    return get_decomposition(ret, p)\n",
    "A = np.matrix('3 1 3 2; 1 2 3 1; 4 3 7 3; 1 2 3 3')\n",
    "a = np.asmatrix('3 1; 1 -2')\n",
    "get_arbitary_decomposition(A)"
   ]
  },
  {
   "cell_type": "code",
   "execution_count": 7,
   "metadata": {},
   "outputs": [
    {
     "name": "stdout",
     "output_type": "stream",
     "text": [
      "8.5\n",
      "8.5\n",
      "-1.5j\n",
      "-2.5\n",
      "8.5\n",
      "8.5\n",
      "-1.5j\n",
      "-2.5\n",
      "-3j\n",
      "-3j\n",
      "0j\n",
      "0j\n",
      "-5.0\n",
      "-5.0\n",
      "0j\n",
      "0.0\n"
     ]
    }
   ],
   "source": [
    "def check_decomp(dec_list, p):\n",
    "    mat = np.zeros([2**p,2**p], dtype = complex)\n",
    "    for i in range(len(dec_list)):\n",
    "        in_list = dec_list[i]\n",
    "        #print(in_list)\n",
    "        mat += in_list[0]*in_list[1]\n",
    "    #print(mat)\n",
    "A = np.matrix('1 2 3 4; 5 6 7 8; 9 10 11 12; 13 14 15 16')\n",
    "dec = get_arbitary_decomposition(A)\n",
    "for i in range(len(dec)):\n",
    "    print(dec[i][0])\n",
    "check_decomp(dec, 2)"
   ]
  },
  {
   "cell_type": "code",
   "execution_count": null,
   "metadata": {},
   "outputs": [],
   "source": []
  }
 ],
 "metadata": {
  "kernelspec": {
   "display_name": "Python 3",
   "language": "python",
   "name": "python3"
  },
  "language_info": {
   "codemirror_mode": {
    "name": "ipython",
    "version": 3
   },
   "file_extension": ".py",
   "mimetype": "text/x-python",
   "name": "python",
   "nbconvert_exporter": "python",
   "pygments_lexer": "ipython3",
   "version": "3.7.4"
  }
 },
 "nbformat": 4,
 "nbformat_minor": 2
}
