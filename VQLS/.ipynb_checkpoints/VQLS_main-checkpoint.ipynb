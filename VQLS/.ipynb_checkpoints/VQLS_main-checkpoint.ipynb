{
 "cells": [
  {
   "cell_type": "code",
   "execution_count": 3,
   "metadata": {},
   "outputs": [],
   "source": [
    "import qiskit\n",
    "from qiskit import QuantumCircuit, QuantumRegister, ClassicalRegister\n",
    "from qiskit import Aer, execute\n",
    "import math\n",
    "import random\n",
    "import numpy as np\n",
    "from scipy.optimize import minimize"
   ]
  },
  {
   "cell_type": "code",
   "execution_count": 4,
   "metadata": {},
   "outputs": [],
   "source": [
    "def generate_ansatz(noq, qc, angle):\n",
    "    depth = noq\n",
    "    off = 0\n",
    "    for j in range(depth):\n",
    "        for i in range(noq):\n",
    "            qc.ry(angle[off + i], i)\n",
    "            if (i != 0 and j != (depth - 1)):\n",
    "                qc.cz(0,i)\n",
    "        off += i+1"
   ]
  },
  {
   "cell_type": "code",
   "execution_count": 5,
   "metadata": {},
   "outputs": [],
   "source": [
    "def had_test_b(qc, ancilla_index, gate, noq, angle, b):\n",
    "    qc.h(ancilla_index)\n",
    "    generate_ansatz(noq, qc, angle)\n",
    "    append_A_matrix(qc, gate, ancilla_index)\n",
    "    generate_B(noq, qc, b)\n",
    "    qc.h(ancilla_index)"
   ]
  },
  {
   "cell_type": "code",
   "execution_count": 6,
   "metadata": {},
   "outputs": [],
   "source": [
    "def append_A_matrix(qc, gate, ancilla, start = 0, end = 0):\n",
    "    if (end == 0):\n",
    "        end = len(gate)\n",
    "    for i in range(start, end):\n",
    "        if (gate[i - start] == 1):\n",
    "             qc.cx(ancilla, i)\n",
    "        if (gate[i - start] == 2):\n",
    "            qc.cy(ancilla, i)   \n",
    "        if (gate[i - start] == 3):\n",
    "            qc.cz(ancilla, i)             "
   ]
  },
  {
   "cell_type": "code",
   "execution_count": 7,
   "metadata": {},
   "outputs": [],
   "source": [
    "def generate_B(noq, qc, b):\n",
    "    qc.initialize(b, range(noq))"
   ]
  },
  {
   "cell_type": "code",
   "execution_count": 8,
   "metadata": {},
   "outputs": [],
   "source": [
    "def had_test_a(qc, ancilla_index, gat, gat_trans, noq, angle, bIm = False):\n",
    "    qc.h(ancilla_index)\n",
    "    if (bIm):\n",
    "        qc.sdg(ancilla_index)\n",
    "    generate_ansatz(noq, qc, angle)\n",
    "    append_A_matrix(qc, gat, ancilla_index)\n",
    "    append_A_matrix(qc, gat_trans, ancilla_index)\n",
    "    qc.h(ancilla_index)"
   ]
  },
  {
   "cell_type": "code",
   "execution_count": 9,
   "metadata": {},
   "outputs": [],
   "source": [
    "def generate_control_ansatz(noq, qc, angle, ancilla):\n",
    "    depth = noq\n",
    "    off = 0\n",
    "    for j in range(depth):\n",
    "        for i in range(noq):\n",
    "            qc.cry(angle[off + i], i)\n",
    "            if (i != 0 and j != (depth - 1)):\n",
    "                qc.ccz(ancilla,0,i)\n",
    "        off += i+1"
   ]
  },
  {
   "cell_type": "code",
   "execution_count": 10,
   "metadata": {},
   "outputs": [],
   "source": [
    "import numpy as np\n",
    "I = np.asmatrix('1 0;0 1')\n",
    "X = np.asmatrix('0 1;1 0')\n",
    "Y = np.asmatrix('0 0-1j;0+1j 0')\n",
    "Z = np.asmatrix('1 0;0 -1')\n",
    "pauli_i = [I, 0]\n",
    "pauli_x = [X, 1]\n",
    "pauli_y = [Y, 2]\n",
    "pauli_z = [Z, 3]\n",
    "\n",
    "def get_basis_set(num_of_qubit = 1):\n",
    "    basis_set = [pauli_i, pauli_x, pauli_y, pauli_z]\n",
    "    int_set = [pauli_i, pauli_x, pauli_y, pauli_z]\n",
    "    temp_set = []\n",
    "    for i in range (num_of_qubit-1):\n",
    "        for j in range (len(basis_set)):\n",
    "            for k in range (len(int_set)):\n",
    "                a = basis_set[j]\n",
    "                b = int_set[k]\n",
    "                #temp_set.append()\n",
    "                temp_set.append([np.kron(a[0],b[0]),[a[1],b[1]]])\n",
    "        int_set = temp_set\n",
    "        #print(int_set)\n",
    "        temp_set = []\n",
    "    return int_set\n",
    "\n",
    "def get_decomposition(A, num_of_q):\n",
    "    basis = get_basis_set(num_of_q)\n",
    "    dec_list = []\n",
    "    for i in range(len(basis)):\n",
    "        b = basis[i]\n",
    "        coeff = np.trace(A*b[0])/(2**num_of_q)\n",
    "        dec_list.append([coeff, b[1]])\n",
    "    return dec_list\n",
    "def get_arbitary_decomposition(A):\n",
    "    size = A.shape\n",
    "    size = size[0]\n",
    "    power = math.log2(size)\n",
    "    p = int(power)\n",
    "    if (p != power):\n",
    "        p += 1\n",
    "    ret = np.zeros([2**p,2**p], dtype = float)\n",
    "    ret[:size, :size] = A\n",
    "    for i in range(size, 2**p):\n",
    "        ret[i,i] = 1\n",
    "    return get_decomposition(ret, p)"
   ]
  },
  {
   "cell_type": "code",
   "execution_count": 11,
   "metadata": {},
   "outputs": [
    {
     "name": "stderr",
     "output_type": "stream",
     "text": [
      "c:\\users\\hrush\\.conda\\envs\\quantum_computing\\lib\\site-packages\\ipykernel_launcher.py:33: ComplexWarning: Casting complex values to real discards the imaginary part\n",
      "c:\\users\\hrush\\.conda\\envs\\quantum_computing\\lib\\site-packages\\ipykernel_launcher.py:48: ComplexWarning: Casting complex values to real discards the imaginary part\n"
     ]
    },
    {
     "name": "stdout",
     "output_type": "stream",
     "text": [
      "(0.6057300725403575-0.035169670375061454j)\n"
     ]
    }
   ],
   "source": [
    "noq = 2\n",
    "\n",
    "angle = [np.pi/2, np.pi/8, np.pi/6, np.pi/3]\n",
    "a = np.matrix('1 2 3 5; 5 4 3 1; 1 3 3 1; 2 3 4 7')\n",
    "b = [0.7071067, 0.7071067, 0.7071067, 0.7071067]\n",
    "a = a/np.linalg.norm(b)\n",
    "b = b/np.linalg.norm(b)\n",
    "dec_list = get_arbitary_decomposition(a)\n",
    "gate = []\n",
    "coeff = []\n",
    "for i in range(len(dec_list)):\n",
    "    if (abs(dec_list[i][0]) != 0):\n",
    "        coeff.append(dec_list[i][0])\n",
    "        gate.append(dec_list[i][1])\n",
    "\n",
    "denom = 0\n",
    "numer = 0\n",
    "cof = 0\n",
    "backend = Aer.get_backend('statevector_simulator')\n",
    "for i in range(len(coeff)):\n",
    "    for j in range(len(coeff)):\n",
    "        circ = QuantumCircuit(noq + 1,1)\n",
    "        cof = coeff[i]*coeff[j]\n",
    "        had_test_a(circ, noq, gate[i], gate[j], noq, angle)\n",
    "        circ.measure(noq, 0)\n",
    "        job = execute(circ, backend)\n",
    "        result = job.result()\n",
    "        outputstate = result.get_statevector(circ, decimals=100)\n",
    "        o = outputstate\n",
    "        m_sum = 0\n",
    "        for l in range (0, len(o)):\n",
    "            if (l%2 == 1):\n",
    "                n = float(o[l])**2\n",
    "                m_sum+=n\n",
    "        denom += cof*m_sum\n",
    "\n",
    "for i in range(len(coeff)):\n",
    "    circ = QuantumCircuit(noq + 1,1)\n",
    "    had_test_b(circ, noq, gate[i], noq, angle, b)\n",
    "    circ.measure(noq, 0)\n",
    "    job = execute(circ, backend)\n",
    "    result = job.result()\n",
    "    outputstate = result.get_statevector(circ, decimals=100)\n",
    "    o = outputstate\n",
    "    m_sum = 0\n",
    "    for l in range (0, len(o)):\n",
    "        if (l%2 == 1):\n",
    "            n = float(o[l])**2\n",
    "            m_sum+=n\n",
    "    numer += coeff[i]*m_sum\n",
    "    \n",
    "numer *= numer \n",
    "print(1-(numer/denom))"
   ]
  },
  {
   "cell_type": "code",
   "execution_count": 51,
   "metadata": {},
   "outputs": [
    {
     "name": "stdout",
     "output_type": "stream",
     "text": [
      "1.0 0.7071068623731044\n",
      "[0.23930157035887994, 0.10075855594058103, -0.06297409746286314, 0.15113783391087154, 0.1259481949257263, (-0.07556891695543577+0j), -0.0881637364480084, -0.037784458477717886]\n",
      "8\n"
     ]
    }
   ],
   "source": [
    "a = np.matrix('1 2 3 4; 2 5 1 3; 3 1 6 2; 4 3 2 7')\n",
    "b = [0.7071067, 0.7071067, 0.7071067, 0.7071067]\n",
    "d = np.linalg.norm(b)\n",
    "a = a/(d*np.linalg.norm(a))\n",
    "b = b/d\n",
    "print(np.linalg.norm(b), np.linalg.norm(a))\n",
    "dec_list = get_arbitary_decomposition(a)\n",
    "gate = []\n",
    "coeff = []\n",
    "for i in range(len(dec_list)):\n",
    "    if (abs(dec_list[i][0]) != 0):\n",
    "        coeff.append(dec_list[i][0])\n",
    "        gate.append(dec_list[i][1])\n",
    "print(coeff)\n",
    "print(len(coeff))\n",
    "def calculate_cost(angle):  \n",
    "    denom = 0\n",
    "    numer = 0\n",
    "    cof = 0\n",
    "    backend = Aer.get_backend('statevector_simulator')\n",
    "    for i in range(len(coeff)):\n",
    "        for k in range(len(coeff)):\n",
    "            circ = QuantumCircuit(noq + 1,1)\n",
    "            cof = coeff[i]*coeff[k]\n",
    "            had_test_a(circ, noq, gate[i], gate[k], noq, angle)\n",
    "            circ.measure(noq, 0)\n",
    "            job = execute(circ, backend)\n",
    "            result = job.result()\n",
    "            outputstate = result.get_statevector(circ, decimals=100)\n",
    "            o = outputstate\n",
    "            m_sum = 0\n",
    "            for l in range (0, len(o)):\n",
    "                if (l%2 == 1):\n",
    "                    n = float(o[l])**2\n",
    "                    m_sum+=n\n",
    "            denom += cof*m_sum\n",
    "            '''circ = QuantumCircuit(noq + 1,1)\n",
    "            had_test_a(circ, noq, gate[i], gate[k], noq, angle, True)\n",
    "            circ.measure(noq, 0)\n",
    "            job = execute(circ, backend)\n",
    "            result = job.result()\n",
    "            outputstate = result.get_statevector(circ, decimals=100)\n",
    "            o = outputstate\n",
    "            m_sum = 0\n",
    "            for l in range (0, len(o)):\n",
    "                if (l%2 == 1):\n",
    "                    n = float(o[l])**2\n",
    "                    m_sum+=n\n",
    "            denom += j*cof*m_sum'''\n",
    "    \n",
    "    for i in range(len(coeff)):\n",
    "        for k in range(len(coeff)):\n",
    "            qc = QuantumCircuit(2*noq + 1, 1)\n",
    "            Hadamard_Overlap_Test(qc ,noq, b, angle, gate[i], gate[k])\n",
    "            job = execute(qc, backend)\n",
    "            result = job.result()\n",
    "            outputstate = result.get_statevector(qc, decimals=100)\n",
    "            o = outputstate\n",
    "            m_sum = 0\n",
    "            for l in range (0, len(o)):\n",
    "                if (l%2 == 1):\n",
    "                    n = float(o[l])**2\n",
    "                    m_sum+=n\n",
    "            numer += coeff[i]*coeff[k]*m_sum\n",
    "            '''qc = QuantumCircuit(2*noq + 1, 1)\n",
    "            Hadamard_Overlap_Test(qc ,noq, b, angle, gate[i], gate[k], True)\n",
    "            job = execute(qc, backend)\n",
    "            result = job.result()\n",
    "            outputstate = result.get_statevector(qc, decimals=100)\n",
    "            o = outputstate\n",
    "            m_sum = 0\n",
    "            for l in range (0, len(o)):\n",
    "                if (l%2 == 1):\n",
    "                    n = float(o[l])**2\n",
    "                    m_sum+=n\n",
    "            numer += j*coeff[i]*coeff[k]*m_sum'''\n",
    "            #print(j*coeff[i]*coeff[k]*m_sum)\n",
    "    print(\"cost = \"+str(1-(numer/denom)))\n",
    "    \n",
    "    return abs(1-(numer/denom))  "
   ]
  },
  {
   "cell_type": "code",
   "execution_count": 52,
   "metadata": {},
   "outputs": [
    {
     "name": "stderr",
     "output_type": "stream",
     "text": [
      "c:\\users\\hrush\\.conda\\envs\\quantum_computing\\lib\\site-packages\\ipykernel_launcher.py:34: ComplexWarning: Casting complex values to real discards the imaginary part\n",
      "c:\\users\\hrush\\.conda\\envs\\quantum_computing\\lib\\site-packages\\ipykernel_launcher.py:62: ComplexWarning: Casting complex values to real discards the imaginary part\n"
     ]
    },
    {
     "name": "stdout",
     "output_type": "stream",
     "text": [
      "cost = (-5.026517848366268+0j)\n",
      "cost = (0.5612604070999384+0j)\n",
      "cost = (-0.18055308398863912+0j)\n",
      "cost = (-1.0882015058283079+0j)\n",
      "cost = (-0.04188952515081534+0j)\n",
      "cost = (-0.4093248037442567+0j)\n",
      "cost = (-0.14781809364592324+0j)\n",
      "cost = (-0.12286216364170244+0j)\n",
      "cost = (-0.1976085061666304+0j)\n",
      "cost = (-0.1419223141718875+0j)\n",
      "cost = (-0.1222561332831631+0j)\n",
      "cost = (-0.15724827840938094+0j)\n",
      "cost = (-0.16433401200161657+0j)\n",
      "cost = (-0.10459851408249521+0j)\n",
      "cost = (0.4697170380087069+0j)\n",
      "cost = (-0.1526557382254572+0j)\n",
      "cost = (-0.28268486052143027+0j)\n",
      "cost = (-0.11514876112814298+0j)\n",
      "cost = (-0.07865312825191895+0j)\n",
      "cost = (-0.001989594809210349+0j)\n",
      "cost = (-0.1185684258535491+0j)\n",
      "cost = (-0.23182421796227604+0j)\n",
      "cost = (-0.056832564909295114+0j)\n",
      "cost = (-0.23092607682837718+0j)\n",
      "cost = (-0.2731130368481194+0j)\n",
      "cost = (-0.14551642968418665+0j)\n",
      "cost = (-0.21289628254330673+0j)\n",
      "cost = (-0.19256261686106413+0j)\n",
      "cost = (-0.10569854953211544+0j)\n",
      "     fun: 0.10569854953211544\n",
      "   maxcv: 0.0\n",
      " message: 'Optimization terminated successfully.'\n",
      "    nfev: 29\n",
      "  status: 1\n",
      " success: True\n",
      "       x: array([1.45680142, 3.03917026, 1.57613314, 2.56046303])\n"
     ]
    }
   ],
   "source": [
    "angle = [0.45649234, 2.04159974, 1.5707963 , 1.57079648]\n",
    "maxiter = 2000000\n",
    "iters = 0 \n",
    "threshold = 0.0047\n",
    "k=0\n",
    "out = minimize(calculate_cost, x0=angle, method=\"cobyla\", options={'maxiter':2000}, tol = threshold)\n",
    "print(out)"
   ]
  },
  {
   "cell_type": "code",
   "execution_count": 43,
   "metadata": {},
   "outputs": [
    {
     "name": "stdout",
     "output_type": "stream",
     "text": [
      "1.0\n",
      "[[-0.53983342]\n",
      " [ 1.07966683]\n",
      " [ 1.07966683]\n",
      " [ 0.53983342]]\n"
     ]
    }
   ],
   "source": [
    "a = np.matrix('1 2 3 4; 2 5 1 3; 3 1 6 2; 4 3 2 7')\n",
    "a = a/np.linalg.norm(a)\n",
    "print(np.linalg.norm(a))\n",
    "b = np.matrix('0.7071067;0.7071067;0.7071067;0.7071067')\n",
    "b = b/np.linalg.norm(b)\n",
    "ans = np.linalg.inv(a)*b\n",
    "print((ans))#/np.linalg.norm(ans))"
   ]
  },
  {
   "cell_type": "code",
   "execution_count": 15,
   "metadata": {},
   "outputs": [],
   "source": [
    "def Hadamard_Overlap_Test(qc ,noq, b, angle, gate, gate_trans,bIm = False):\n",
    "    qc.h(2*noq)\n",
    "    generate_ansatz(noq, qc, angle)\n",
    "    append_A_matrix(qc, gate, 2*noq, 0, noq)\n",
    "    qc.initialize(b, range(noq, 2*noq))\n",
    "    append_A_matrix(qc, gate_trans, 2*noq, noq, 2*noq)\n",
    "    qc.barrier()\n",
    "    for i in range(0, noq):\n",
    "        qc.cx(i, noq+i)\n",
    "    qc.h(2*noq)\n",
    "    if (bIm):\n",
    "        qc.rz(np.pi/2, 2*noq)\n",
    "    qc.measure(2*noq, 0)\n",
    "    "
   ]
  },
  {
   "cell_type": "code",
   "execution_count": 16,
   "metadata": {},
   "outputs": [
    {
     "name": "stdout",
     "output_type": "stream",
     "text": [
      "range(0, 2)\n"
     ]
    }
   ],
   "source": [
    "print(range(2))"
   ]
  },
  {
   "cell_type": "code",
   "execution_count": 55,
   "metadata": {},
   "outputs": [
    {
     "name": "stdout",
     "output_type": "stream",
     "text": [
      "[-0.954+0.j -0.042+0.j  0.288+0.j  0.066+0.j]\n"
     ]
    },
    {
     "data": {
      "image/png": "[encoded data removed]",
      "text/plain": [
       "<Figure size 337.12x204.68 with 1 Axes>"
      ]
     },
     "execution_count": 55,
     "metadata": {},
     "output_type": "execute_result"
    }
   ],
   "source": [
    "circ = QuantumCircuit(2,2)\n",
    "generate_ansatz(2, circ, [1.45680142, 3.03917026, 1.57613314, 2.56046303])\n",
    "circ.draw(output=\"mpl\")\n",
    "job = execute(circ, backend)\n",
    "result = job.result()\n",
    "outputstate = result.get_statevector(circ, decimals=3)\n",
    "print(outputstate)\n",
    "circ.draw(output=\"mpl\")"
   ]
  },
  {
   "cell_type": "code",
   "execution_count": null,
   "metadata": {},
   "outputs": [],
   "source": []
  },
  {
   "cell_type": "code",
   "execution_count": null,
   "metadata": {},
   "outputs": [],
   "source": []
  }
 ],
 "metadata": {
  "kernelspec": {
   "display_name": "Python 3",
   "language": "python",
   "name": "python3"
  },
  "language_info": {
   "codemirror_mode": {
    "name": "ipython",
    "version": 3
   },
   "file_extension": ".py",
   "mimetype": "text/x-python",
   "name": "python",
   "nbconvert_exporter": "python",
   "pygments_lexer": "ipython3",
   "version": "3.7.4"
  }
 },
 "nbformat": 4,
 "nbformat_minor": 2
}
