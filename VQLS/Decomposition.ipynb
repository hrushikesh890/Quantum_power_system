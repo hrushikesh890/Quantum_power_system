{
 "cells": [
  {
   "cell_type": "code",
   "execution_count": 40,
   "metadata": {},
   "outputs": [],
   "source": [
    "import numpy as np\n",
    "I = np.asmatrix('1 0;0 1')\n",
    "X = np.asmatrix('0 1;1 0')\n",
    "Y = np.asmatrix('0 0-1j;0+1j 0')\n",
    "Z = np.asmatrix('1 0;0 -1')\n",
    "pauli_i = [I, 'I']\n",
    "pauli_x = [X, 'X']\n",
    "pauli_y = [Y, 'Y']\n",
    "pauli_z = [Z, 'Z']\n",
    "\n",
    "def get_basis_set(num_of_qubit = 1):\n",
    "    basis_set = [pauli_i, pauli_x, pauli_y, pauli_z]\n",
    "    int_set = [pauli_i, pauli_x, pauli_y, pauli_z]\n",
    "    temp_set = []\n",
    "    for i in range (num_of_qubit-1):\n",
    "        for j in range (len(basis_set)):\n",
    "            for k in range (len(int_set)):\n",
    "                a = basis_set[j]\n",
    "                b = int_set[k]\n",
    "                #temp_set.append()\n",
    "                temp_set.append([np.kron(a[0],b[0]),a[1]+b[1]])\n",
    "        int_set = temp_set\n",
    "        #print(int_set)\n",
    "        temp_set = []\n",
    "    return int_set\n",
    "\n",
    "def get_decomposition(A, num_of_q):\n",
    "    basis = get_basis_set(num_of_q)\n",
    "    dec_list = []\n",
    "    for i in range(len(basis)):\n",
    "        b = basis[i]\n",
    "        coeff = np.trace(A*b[0])/(2**num_of_q)\n",
    "        dec_list.append([coeff, b[0], b[1]])\n",
    "    return dec_list"
   ]
  },
  {
   "cell_type": "code",
   "execution_count": 39,
   "metadata": {},
   "outputs": [
    {
     "data": {
      "text/plain": [
       "[matrix([[1, 0],\n",
       "         [0, 1]]), 'I']"
      ]
     },
     "execution_count": 39,
     "metadata": {},
     "output_type": "execute_result"
    }
   ],
   "source": [
    "get_basis_set(1)"
   ]
  },
  {
   "cell_type": "code",
   "execution_count": 42,
   "metadata": {},
   "outputs": [
    {
     "data": {
      "text/plain": [
       "[[0.5, matrix([[1, 0],\n",
       "          [0, 1]]), 'I'], [1.0, matrix([[0, 1],\n",
       "          [1, 0]]), 'X'], [0j, matrix([[0.+0.j, 0.-1.j],\n",
       "          [0.+1.j, 0.+0.j]]), 'Y'], [2.5, matrix([[ 1,  0],\n",
       "          [ 0, -1]]), 'Z']]"
      ]
     },
     "execution_count": 42,
     "metadata": {},
     "output_type": "execute_result"
    }
   ],
   "source": [
    "a = np.asmatrix('3 1; 1 -2')\n",
    "get_decomposition(a,1)"
   ]
  },
  {
   "cell_type": "code",
   "execution_count": null,
   "metadata": {},
   "outputs": [],
   "source": []
  }
 ],
 "metadata": {
  "kernelspec": {
   "display_name": "Python 3",
   "language": "python",
   "name": "python3"
  },
  "language_info": {
   "codemirror_mode": {
    "name": "ipython",
    "version": 3
   },
   "file_extension": ".py",
   "mimetype": "text/x-python",
   "name": "python",
   "nbconvert_exporter": "python",
   "pygments_lexer": "ipython3",
   "version": "3.7.4"
  }
 },
 "nbformat": 4,
 "nbformat_minor": 2
}
