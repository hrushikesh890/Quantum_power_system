{
 "cells": [
  {
   "cell_type": "code",
   "execution_count": 51,
   "metadata": {},
   "outputs": [],
   "source": [
    "import qiskit\n",
    "from qiskit import QuantumCircuit, QuantumRegister, ClassicalRegister\n",
    "from qiskit import Aer, execute\n",
    "import math\n",
    "import random\n",
    "import numpy as np\n",
    "from scipy.optimize import minimize"
   ]
  },
  {
   "cell_type": "code",
   "execution_count": 52,
   "metadata": {},
   "outputs": [],
   "source": [
    "def generate_ansatz(noq, qc, angle):\n",
    "    depth = noq\n",
    "    off = 0\n",
    "    for j in range(depth):\n",
    "        for i in range(noq):\n",
    "            qc.ry(angle[off + i], i)\n",
    "            if (i != 0 and j != (depth - 1)):\n",
    "                qc.cz(0,i)\n",
    "        off += i+1"
   ]
  },
  {
   "cell_type": "code",
   "execution_count": 53,
   "metadata": {},
   "outputs": [],
   "source": [
    "def had_test_b(qc, ancilla_index, gate, noq, angle, b):\n",
    "    qc.h(ancilla_index)\n",
    "    generate_ansatz(noq, qc, angle)\n",
    "    append_A_matrix(qc, gate, ancilla_index)\n",
    "    append_A_matrix(qc, gate, ancilla_index)\n",
    "    generate_B(noq, qc, b)\n",
    "    qc.h(ancilla_index)"
   ]
  },
  {
   "cell_type": "code",
   "execution_count": 70,
   "metadata": {},
   "outputs": [],
   "source": [
    "def append_A_matrix(qc, gate, ancilla, start = 0, end = 0):\n",
    "    if (end == 0):\n",
    "        end = len(gate)\n",
    "    for i in range(start, end):\n",
    "        if (gate[i - start] == 1):\n",
    "             qc.cx(ancilla, i)\n",
    "        if (gate[i - start] == 2):\n",
    "            qc.cy(ancilla, i)   \n",
    "        if (gate[i - start] == 3):\n",
    "            qc.cz(ancilla, i)             "
   ]
  },
  {
   "cell_type": "code",
   "execution_count": 69,
   "metadata": {},
   "outputs": [],
   "source": [
    "def generate_B(noq, qc, b):\n",
    "    qc.initialize(b, range(noq))"
   ]
  },
  {
   "cell_type": "code",
   "execution_count": 66,
   "metadata": {},
   "outputs": [],
   "source": [
    "def had_test_a(qc, ancilla_index, gat, gat_trans, noq, angle, bIm = False):\n",
    "    qc.h(ancilla_index)\n",
    "    if (bIm):\n",
    "        qc.sdg(ancilla_index)\n",
    "    generate_ansatz(noq, qc, angle)\n",
    "    append_A_matrix(qc, gat, ancilla_index)\n",
    "    append_A_matrix(qc, gat_trans, ancilla_index)\n",
    "    qc.h(ancilla_index)"
   ]
  },
  {
   "cell_type": "code",
   "execution_count": 57,
   "metadata": {},
   "outputs": [],
   "source": [
    "def generate_control_ansatz(noq, qc, angle, ancilla):\n",
    "    depth = noq\n",
    "    off = 0\n",
    "    for j in range(depth):\n",
    "        for i in range(noq):\n",
    "            qc.cry(angle[off + i], i)\n",
    "            if (i != 0 and j != (depth - 1)):\n",
    "                qc.ccz(ancilla,0,i)\n",
    "        off += i+1"
   ]
  },
  {
   "cell_type": "code",
   "execution_count": 58,
   "metadata": {},
   "outputs": [],
   "source": [
    "import numpy as np\n",
    "I = np.asmatrix('1 0;0 1')\n",
    "X = np.asmatrix('0 1;1 0')\n",
    "Y = np.asmatrix('0 0-1j;0+1j 0')\n",
    "Z = np.asmatrix('1 0;0 -1')\n",
    "pauli_i = [I, 0]\n",
    "pauli_x = [X, 1]\n",
    "pauli_y = [Y, 2]\n",
    "pauli_z = [Z, 3]\n",
    "\n",
    "def get_basis_set(num_of_qubit = 1):\n",
    "    basis_set = [pauli_i, pauli_x, pauli_y, pauli_z]\n",
    "    int_set = [pauli_i, pauli_x, pauli_y, pauli_z]\n",
    "    temp_set = []\n",
    "    for i in range (num_of_qubit-1):\n",
    "        for j in range (len(basis_set)):\n",
    "            for k in range (len(int_set)):\n",
    "                a = basis_set[j]\n",
    "                b = int_set[k]\n",
    "                #temp_set.append()\n",
    "                temp_set.append([np.kron(a[0],b[0]),[a[1],b[1]]])\n",
    "        int_set = temp_set\n",
    "        #print(int_set)\n",
    "        temp_set = []\n",
    "    return int_set\n",
    "\n",
    "def get_decomposition(A, num_of_q):\n",
    "    basis = get_basis_set(num_of_q)\n",
    "    dec_list = []\n",
    "    for i in range(len(basis)):\n",
    "        b = basis[i]\n",
    "        coeff = np.trace(A*b[0])/(2**num_of_q)\n",
    "        dec_list.append([coeff, b[1]])\n",
    "    return dec_list\n",
    "def get_arbitary_decomposition(A):\n",
    "    size = A.shape\n",
    "    size = size[0]\n",
    "    power = math.log2(size)\n",
    "    p = int(power)\n",
    "    if (p != power):\n",
    "        p += 1\n",
    "    ret = np.zeros([2**p,2**p], dtype = float)\n",
    "    ret[:size, :size] = A\n",
    "    for i in range(size, 2**p):\n",
    "        ret[i,i] = 1\n",
    "    return get_decomposition(ret, p)"
   ]
  },
  {
   "cell_type": "code",
   "execution_count": 71,
   "metadata": {},
   "outputs": [
    {
     "name": "stderr",
     "output_type": "stream",
     "text": [
      "c:\\users\\hrush\\.conda\\envs\\quantum_computing\\lib\\site-packages\\ipykernel_launcher.py:33: ComplexWarning: Casting complex values to real discards the imaginary part\n"
     ]
    },
    {
     "ename": "KeyboardInterrupt",
     "evalue": "",
     "output_type": "error",
     "traceback": [
      "\u001b[1;31m---------------------------------------------------------------------------\u001b[0m",
      "\u001b[1;31mKeyboardInterrupt\u001b[0m                         Traceback (most recent call last)",
      "\u001b[1;32m<ipython-input-71-7fe0d4ec4c79>\u001b[0m in \u001b[0;36m<module>\u001b[1;34m\u001b[0m\n\u001b[0;32m     24\u001b[0m         \u001b[0mhad_test_a\u001b[0m\u001b[1;33m(\u001b[0m\u001b[0mcirc\u001b[0m\u001b[1;33m,\u001b[0m \u001b[0mnoq\u001b[0m\u001b[1;33m,\u001b[0m \u001b[0mgate\u001b[0m\u001b[1;33m[\u001b[0m\u001b[0mi\u001b[0m\u001b[1;33m]\u001b[0m\u001b[1;33m,\u001b[0m \u001b[0mgate\u001b[0m\u001b[1;33m[\u001b[0m\u001b[0mj\u001b[0m\u001b[1;33m]\u001b[0m\u001b[1;33m,\u001b[0m \u001b[0mnoq\u001b[0m\u001b[1;33m,\u001b[0m \u001b[0mangle\u001b[0m\u001b[1;33m)\u001b[0m\u001b[1;33m\u001b[0m\u001b[1;33m\u001b[0m\u001b[0m\n\u001b[0;32m     25\u001b[0m         \u001b[0mcirc\u001b[0m\u001b[1;33m.\u001b[0m\u001b[0mmeasure\u001b[0m\u001b[1;33m(\u001b[0m\u001b[0mnoq\u001b[0m\u001b[1;33m,\u001b[0m \u001b[1;36m0\u001b[0m\u001b[1;33m)\u001b[0m\u001b[1;33m\u001b[0m\u001b[1;33m\u001b[0m\u001b[0m\n\u001b[1;32m---> 26\u001b[1;33m         \u001b[0mjob\u001b[0m \u001b[1;33m=\u001b[0m \u001b[0mexecute\u001b[0m\u001b[1;33m(\u001b[0m\u001b[0mcirc\u001b[0m\u001b[1;33m,\u001b[0m \u001b[0mbackend\u001b[0m\u001b[1;33m)\u001b[0m\u001b[1;33m\u001b[0m\u001b[1;33m\u001b[0m\u001b[0m\n\u001b[0m\u001b[0;32m     27\u001b[0m         \u001b[0mresult\u001b[0m \u001b[1;33m=\u001b[0m \u001b[0mjob\u001b[0m\u001b[1;33m.\u001b[0m\u001b[0mresult\u001b[0m\u001b[1;33m(\u001b[0m\u001b[1;33m)\u001b[0m\u001b[1;33m\u001b[0m\u001b[1;33m\u001b[0m\u001b[0m\n\u001b[0;32m     28\u001b[0m         \u001b[0moutputstate\u001b[0m \u001b[1;33m=\u001b[0m \u001b[0mresult\u001b[0m\u001b[1;33m.\u001b[0m\u001b[0mget_statevector\u001b[0m\u001b[1;33m(\u001b[0m\u001b[0mcirc\u001b[0m\u001b[1;33m,\u001b[0m \u001b[0mdecimals\u001b[0m\u001b[1;33m=\u001b[0m\u001b[1;36m100\u001b[0m\u001b[1;33m)\u001b[0m\u001b[1;33m\u001b[0m\u001b[1;33m\u001b[0m\u001b[0m\n",
      "\u001b[1;32mc:\\users\\hrush\\.conda\\envs\\quantum_computing\\lib\\site-packages\\qiskit\\execute.py\u001b[0m in \u001b[0;36mexecute\u001b[1;34m(experiments, backend, basis_gates, coupling_map, backend_properties, initial_layout, seed_transpiler, optimization_level, pass_manager, qobj_id, qobj_header, shots, memory, max_credits, seed_simulator, default_qubit_los, default_meas_los, schedule_los, meas_level, meas_return, memory_slots, memory_slot_size, rep_time, parameter_binds, **run_config)\u001b[0m\n\u001b[0;32m    195\u001b[0m                             \u001b[0moptimization_level\u001b[0m\u001b[1;33m=\u001b[0m\u001b[0moptimization_level\u001b[0m\u001b[1;33m,\u001b[0m\u001b[1;33m\u001b[0m\u001b[1;33m\u001b[0m\u001b[0m\n\u001b[0;32m    196\u001b[0m                             \u001b[0mbackend\u001b[0m\u001b[1;33m=\u001b[0m\u001b[0mbackend\u001b[0m\u001b[1;33m,\u001b[0m\u001b[1;33m\u001b[0m\u001b[1;33m\u001b[0m\u001b[0m\n\u001b[1;32m--> 197\u001b[1;33m                             \u001b[0mpass_manager\u001b[0m\u001b[1;33m=\u001b[0m\u001b[0mpass_manager\u001b[0m\u001b[1;33m,\u001b[0m\u001b[1;33m\u001b[0m\u001b[1;33m\u001b[0m\u001b[0m\n\u001b[0m\u001b[0;32m    198\u001b[0m                             )\n\u001b[0;32m    199\u001b[0m \u001b[1;33m\u001b[0m\u001b[0m\n",
      "\u001b[1;32mc:\\users\\hrush\\.conda\\envs\\quantum_computing\\lib\\site-packages\\qiskit\\compiler\\transpile.py\u001b[0m in \u001b[0;36mtranspile\u001b[1;34m(circuits, backend, basis_gates, coupling_map, backend_properties, initial_layout, seed_transpiler, optimization_level, pass_manager, callback, output_name)\u001b[0m\n\u001b[0;32m    198\u001b[0m                                       'in the coupling_map')\n\u001b[0;32m    199\u001b[0m     \u001b[1;31m# Transpile circuits in parallel\u001b[0m\u001b[1;33m\u001b[0m\u001b[1;33m\u001b[0m\u001b[1;33m\u001b[0m\u001b[0m\n\u001b[1;32m--> 200\u001b[1;33m     \u001b[0mcircuits\u001b[0m \u001b[1;33m=\u001b[0m \u001b[0mparallel_map\u001b[0m\u001b[1;33m(\u001b[0m\u001b[0m_transpile_circuit\u001b[0m\u001b[1;33m,\u001b[0m \u001b[0mlist\u001b[0m\u001b[1;33m(\u001b[0m\u001b[0mzip\u001b[0m\u001b[1;33m(\u001b[0m\u001b[0mcircuits\u001b[0m\u001b[1;33m,\u001b[0m \u001b[0mtranspile_configs\u001b[0m\u001b[1;33m)\u001b[0m\u001b[1;33m)\u001b[0m\u001b[1;33m)\u001b[0m\u001b[1;33m\u001b[0m\u001b[1;33m\u001b[0m\u001b[0m\n\u001b[0m\u001b[0;32m    201\u001b[0m \u001b[1;33m\u001b[0m\u001b[0m\n\u001b[0;32m    202\u001b[0m     \u001b[1;32mif\u001b[0m \u001b[0mlen\u001b[0m\u001b[1;33m(\u001b[0m\u001b[0mcircuits\u001b[0m\u001b[1;33m)\u001b[0m \u001b[1;33m==\u001b[0m \u001b[1;36m1\u001b[0m\u001b[1;33m:\u001b[0m\u001b[1;33m\u001b[0m\u001b[1;33m\u001b[0m\u001b[0m\n",
      "\u001b[1;32mc:\\users\\hrush\\.conda\\envs\\quantum_computing\\lib\\site-packages\\qiskit\\tools\\parallel.py\u001b[0m in \u001b[0;36mparallel_map\u001b[1;34m(task, values, task_args, task_kwargs, num_processes)\u001b[0m\n\u001b[0;32m     98\u001b[0m     \"\"\"\n\u001b[0;32m     99\u001b[0m     \u001b[1;32mif\u001b[0m \u001b[0mlen\u001b[0m\u001b[1;33m(\u001b[0m\u001b[0mvalues\u001b[0m\u001b[1;33m)\u001b[0m \u001b[1;33m==\u001b[0m \u001b[1;36m1\u001b[0m\u001b[1;33m:\u001b[0m\u001b[1;33m\u001b[0m\u001b[1;33m\u001b[0m\u001b[0m\n\u001b[1;32m--> 100\u001b[1;33m         \u001b[1;32mreturn\u001b[0m \u001b[1;33m[\u001b[0m\u001b[0mtask\u001b[0m\u001b[1;33m(\u001b[0m\u001b[0mvalues\u001b[0m\u001b[1;33m[\u001b[0m\u001b[1;36m0\u001b[0m\u001b[1;33m]\u001b[0m\u001b[1;33m,\u001b[0m \u001b[1;33m*\u001b[0m\u001b[0mtask_args\u001b[0m\u001b[1;33m,\u001b[0m \u001b[1;33m**\u001b[0m\u001b[0mtask_kwargs\u001b[0m\u001b[1;33m)\u001b[0m\u001b[1;33m]\u001b[0m\u001b[1;33m\u001b[0m\u001b[1;33m\u001b[0m\u001b[0m\n\u001b[0m\u001b[0;32m    101\u001b[0m \u001b[1;33m\u001b[0m\u001b[0m\n\u001b[0;32m    102\u001b[0m     \u001b[0mPublisher\u001b[0m\u001b[1;33m(\u001b[0m\u001b[1;33m)\u001b[0m\u001b[1;33m.\u001b[0m\u001b[0mpublish\u001b[0m\u001b[1;33m(\u001b[0m\u001b[1;34m\"terra.parallel.start\"\u001b[0m\u001b[1;33m,\u001b[0m \u001b[0mlen\u001b[0m\u001b[1;33m(\u001b[0m\u001b[0mvalues\u001b[0m\u001b[1;33m)\u001b[0m\u001b[1;33m)\u001b[0m\u001b[1;33m\u001b[0m\u001b[1;33m\u001b[0m\u001b[0m\n",
      "\u001b[1;32mc:\\users\\hrush\\.conda\\envs\\quantum_computing\\lib\\site-packages\\qiskit\\compiler\\transpile.py\u001b[0m in \u001b[0;36m_transpile_circuit\u001b[1;34m(circuit_config_tuple)\u001b[0m\n\u001b[0;32m    219\u001b[0m     \u001b[0mcircuit\u001b[0m\u001b[1;33m,\u001b[0m \u001b[0mtranspile_config\u001b[0m \u001b[1;33m=\u001b[0m \u001b[0mcircuit_config_tuple\u001b[0m\u001b[1;33m\u001b[0m\u001b[1;33m\u001b[0m\u001b[0m\n\u001b[0;32m    220\u001b[0m \u001b[1;33m\u001b[0m\u001b[0m\n\u001b[1;32m--> 221\u001b[1;33m     \u001b[1;32mreturn\u001b[0m \u001b[0mtranspile_circuit\u001b[0m\u001b[1;33m(\u001b[0m\u001b[0mcircuit\u001b[0m\u001b[1;33m,\u001b[0m \u001b[0mtranspile_config\u001b[0m\u001b[1;33m)\u001b[0m\u001b[1;33m\u001b[0m\u001b[1;33m\u001b[0m\u001b[0m\n\u001b[0m\u001b[0;32m    222\u001b[0m \u001b[1;33m\u001b[0m\u001b[0m\n\u001b[0;32m    223\u001b[0m \u001b[1;33m\u001b[0m\u001b[0m\n",
      "\u001b[1;32mc:\\users\\hrush\\.conda\\envs\\quantum_computing\\lib\\site-packages\\qiskit\\transpiler\\transpile_circuit.py\u001b[0m in \u001b[0;36mtranspile_circuit\u001b[1;34m(circuit, transpile_config)\u001b[0m\n\u001b[0;32m     60\u001b[0m         \u001b[0mpass_manager\u001b[0m\u001b[1;33m.\u001b[0m\u001b[0mcallback\u001b[0m \u001b[1;33m=\u001b[0m \u001b[0mtranspile_config\u001b[0m\u001b[1;33m.\u001b[0m\u001b[0mcallback\u001b[0m\u001b[1;33m\u001b[0m\u001b[1;33m\u001b[0m\u001b[0m\n\u001b[0;32m     61\u001b[0m \u001b[1;33m\u001b[0m\u001b[0m\n\u001b[1;32m---> 62\u001b[1;33m     \u001b[0mout_circuit\u001b[0m \u001b[1;33m=\u001b[0m \u001b[0mpass_manager\u001b[0m\u001b[1;33m.\u001b[0m\u001b[0mrun\u001b[0m\u001b[1;33m(\u001b[0m\u001b[0mcircuit\u001b[0m\u001b[1;33m)\u001b[0m\u001b[1;33m\u001b[0m\u001b[1;33m\u001b[0m\u001b[0m\n\u001b[0m\u001b[0;32m     63\u001b[0m     \u001b[0mout_circuit\u001b[0m\u001b[1;33m.\u001b[0m\u001b[0mname\u001b[0m \u001b[1;33m=\u001b[0m \u001b[0mtranspile_config\u001b[0m\u001b[1;33m.\u001b[0m\u001b[0moutput_name\u001b[0m\u001b[1;33m\u001b[0m\u001b[1;33m\u001b[0m\u001b[0m\n\u001b[0;32m     64\u001b[0m \u001b[1;33m\u001b[0m\u001b[0m\n",
      "\u001b[1;32mc:\\users\\hrush\\.conda\\envs\\quantum_computing\\lib\\site-packages\\qiskit\\transpiler\\passmanager.py\u001b[0m in \u001b[0;36mrun\u001b[1;34m(***failed resolving arguments***)\u001b[0m\n\u001b[0;32m    170\u001b[0m         \u001b[1;32mfor\u001b[0m \u001b[0mpassset\u001b[0m \u001b[1;32min\u001b[0m \u001b[0mself\u001b[0m\u001b[1;33m.\u001b[0m\u001b[0mworking_list\u001b[0m\u001b[1;33m:\u001b[0m\u001b[1;33m\u001b[0m\u001b[1;33m\u001b[0m\u001b[0m\n\u001b[0;32m    171\u001b[0m             \u001b[1;32mfor\u001b[0m \u001b[0mpass_\u001b[0m \u001b[1;32min\u001b[0m \u001b[0mpassset\u001b[0m\u001b[1;33m:\u001b[0m\u001b[1;33m\u001b[0m\u001b[1;33m\u001b[0m\u001b[0m\n\u001b[1;32m--> 172\u001b[1;33m                 \u001b[0mdag\u001b[0m \u001b[1;33m=\u001b[0m \u001b[0mself\u001b[0m\u001b[1;33m.\u001b[0m\u001b[0m_do_pass\u001b[0m\u001b[1;33m(\u001b[0m\u001b[0mpass_\u001b[0m\u001b[1;33m,\u001b[0m \u001b[0mdag\u001b[0m\u001b[1;33m,\u001b[0m \u001b[0mpassset\u001b[0m\u001b[1;33m.\u001b[0m\u001b[0moptions\u001b[0m\u001b[1;33m)\u001b[0m\u001b[1;33m\u001b[0m\u001b[1;33m\u001b[0m\u001b[0m\n\u001b[0m\u001b[0;32m    173\u001b[0m \u001b[1;33m\u001b[0m\u001b[0m\n\u001b[0;32m    174\u001b[0m         \u001b[0mcircuit\u001b[0m \u001b[1;33m=\u001b[0m \u001b[0mdag_to_circuit\u001b[0m\u001b[1;33m(\u001b[0m\u001b[0mdag\u001b[0m\u001b[1;33m)\u001b[0m\u001b[1;33m\u001b[0m\u001b[1;33m\u001b[0m\u001b[0m\n",
      "\u001b[1;32mc:\\users\\hrush\\.conda\\envs\\quantum_computing\\lib\\site-packages\\qiskit\\transpiler\\passmanager.py\u001b[0m in \u001b[0;36m_do_pass\u001b[1;34m(self, pass_, dag, options)\u001b[0m\n\u001b[0;32m    221\u001b[0m         \u001b[1;31m# Run the pass itself, if not already run\u001b[0m\u001b[1;33m\u001b[0m\u001b[1;33m\u001b[0m\u001b[1;33m\u001b[0m\u001b[0m\n\u001b[0;32m    222\u001b[0m         \u001b[1;32mif\u001b[0m \u001b[0mpass_\u001b[0m \u001b[1;32mnot\u001b[0m \u001b[1;32min\u001b[0m \u001b[0mself\u001b[0m\u001b[1;33m.\u001b[0m\u001b[0mvalid_passes\u001b[0m\u001b[1;33m:\u001b[0m\u001b[1;33m\u001b[0m\u001b[1;33m\u001b[0m\u001b[0m\n\u001b[1;32m--> 223\u001b[1;33m             \u001b[0mdag\u001b[0m \u001b[1;33m=\u001b[0m \u001b[0mself\u001b[0m\u001b[1;33m.\u001b[0m\u001b[0m_run_this_pass\u001b[0m\u001b[1;33m(\u001b[0m\u001b[0mpass_\u001b[0m\u001b[1;33m,\u001b[0m \u001b[0mdag\u001b[0m\u001b[1;33m)\u001b[0m\u001b[1;33m\u001b[0m\u001b[1;33m\u001b[0m\u001b[0m\n\u001b[0m\u001b[0;32m    224\u001b[0m \u001b[1;33m\u001b[0m\u001b[0m\n\u001b[0;32m    225\u001b[0m             \u001b[1;31m# update the valid_passes property\u001b[0m\u001b[1;33m\u001b[0m\u001b[1;33m\u001b[0m\u001b[1;33m\u001b[0m\u001b[0m\n",
      "\u001b[1;32mc:\\users\\hrush\\.conda\\envs\\quantum_computing\\lib\\site-packages\\qiskit\\transpiler\\passmanager.py\u001b[0m in \u001b[0;36m_run_this_pass\u001b[1;34m(self, pass_, dag)\u001b[0m\n\u001b[0;32m    233\u001b[0m             \u001b[1;31m# Measure time if we have a callback or logging set\u001b[0m\u001b[1;33m\u001b[0m\u001b[1;33m\u001b[0m\u001b[1;33m\u001b[0m\u001b[0m\n\u001b[0;32m    234\u001b[0m             \u001b[0mstart_time\u001b[0m \u001b[1;33m=\u001b[0m \u001b[0mtime\u001b[0m\u001b[1;33m(\u001b[0m\u001b[1;33m)\u001b[0m\u001b[1;33m\u001b[0m\u001b[1;33m\u001b[0m\u001b[0m\n\u001b[1;32m--> 235\u001b[1;33m             \u001b[0mnew_dag\u001b[0m \u001b[1;33m=\u001b[0m \u001b[0mpass_\u001b[0m\u001b[1;33m.\u001b[0m\u001b[0mrun\u001b[0m\u001b[1;33m(\u001b[0m\u001b[0mdag\u001b[0m\u001b[1;33m)\u001b[0m\u001b[1;33m\u001b[0m\u001b[1;33m\u001b[0m\u001b[0m\n\u001b[0m\u001b[0;32m    236\u001b[0m             \u001b[0mend_time\u001b[0m \u001b[1;33m=\u001b[0m \u001b[0mtime\u001b[0m\u001b[1;33m(\u001b[0m\u001b[1;33m)\u001b[0m\u001b[1;33m\u001b[0m\u001b[1;33m\u001b[0m\u001b[0m\n\u001b[0;32m    237\u001b[0m             \u001b[0mrun_time\u001b[0m \u001b[1;33m=\u001b[0m \u001b[0mend_time\u001b[0m \u001b[1;33m-\u001b[0m \u001b[0mstart_time\u001b[0m\u001b[1;33m\u001b[0m\u001b[1;33m\u001b[0m\u001b[0m\n",
      "\u001b[1;32mc:\\users\\hrush\\.conda\\envs\\quantum_computing\\lib\\site-packages\\qiskit\\transpiler\\passes\\unroller.py\u001b[0m in \u001b[0;36mrun\u001b[1;34m(self, dag)\u001b[0m\n\u001b[0;32m     79\u001b[0m             \u001b[0mcregs\u001b[0m \u001b[1;33m=\u001b[0m \u001b[1;33m{\u001b[0m\u001b[0mcb\u001b[0m\u001b[1;33m.\u001b[0m\u001b[0mregister\u001b[0m \u001b[1;32mfor\u001b[0m \u001b[0minst\u001b[0m \u001b[1;32min\u001b[0m \u001b[0mrule\u001b[0m \u001b[1;32mfor\u001b[0m \u001b[0mcb\u001b[0m \u001b[1;32min\u001b[0m \u001b[0minst\u001b[0m\u001b[1;33m[\u001b[0m\u001b[1;36m2\u001b[0m\u001b[1;33m]\u001b[0m\u001b[1;33m}\u001b[0m\u001b[1;33m\u001b[0m\u001b[1;33m\u001b[0m\u001b[0m\n\u001b[0;32m     80\u001b[0m             \u001b[1;32mfor\u001b[0m \u001b[0mqreg\u001b[0m \u001b[1;32min\u001b[0m \u001b[0mqregs\u001b[0m\u001b[1;33m:\u001b[0m\u001b[1;33m\u001b[0m\u001b[1;33m\u001b[0m\u001b[0m\n\u001b[1;32m---> 81\u001b[1;33m                 \u001b[0mdecomposition\u001b[0m\u001b[1;33m.\u001b[0m\u001b[0madd_qreg\u001b[0m\u001b[1;33m(\u001b[0m\u001b[0mqreg\u001b[0m\u001b[1;33m)\u001b[0m\u001b[1;33m\u001b[0m\u001b[1;33m\u001b[0m\u001b[0m\n\u001b[0m\u001b[0;32m     82\u001b[0m             \u001b[1;32mfor\u001b[0m \u001b[0mcreg\u001b[0m \u001b[1;32min\u001b[0m \u001b[0mcregs\u001b[0m\u001b[1;33m:\u001b[0m\u001b[1;33m\u001b[0m\u001b[1;33m\u001b[0m\u001b[0m\n\u001b[0;32m     83\u001b[0m                 \u001b[0mdecomposition\u001b[0m\u001b[1;33m.\u001b[0m\u001b[0madd_creg\u001b[0m\u001b[1;33m(\u001b[0m\u001b[0mcreg\u001b[0m\u001b[1;33m)\u001b[0m\u001b[1;33m\u001b[0m\u001b[1;33m\u001b[0m\u001b[0m\n",
      "\u001b[1;32mc:\\users\\hrush\\.conda\\envs\\quantum_computing\\lib\\site-packages\\qiskit\\dagcircuit\\dagcircuit.py\u001b[0m in \u001b[0;36madd_qreg\u001b[1;34m(self, qreg)\u001b[0m\n\u001b[0;32m    115\u001b[0m         \u001b[0mself\u001b[0m\u001b[1;33m.\u001b[0m\u001b[0mqregs\u001b[0m\u001b[1;33m[\u001b[0m\u001b[0mqreg\u001b[0m\u001b[1;33m.\u001b[0m\u001b[0mname\u001b[0m\u001b[1;33m]\u001b[0m \u001b[1;33m=\u001b[0m \u001b[0mqreg\u001b[0m\u001b[1;33m\u001b[0m\u001b[1;33m\u001b[0m\u001b[0m\n\u001b[0;32m    116\u001b[0m         \u001b[1;32mfor\u001b[0m \u001b[0mj\u001b[0m \u001b[1;32min\u001b[0m \u001b[0mrange\u001b[0m\u001b[1;33m(\u001b[0m\u001b[0mqreg\u001b[0m\u001b[1;33m.\u001b[0m\u001b[0msize\u001b[0m\u001b[1;33m)\u001b[0m\u001b[1;33m:\u001b[0m\u001b[1;33m\u001b[0m\u001b[1;33m\u001b[0m\u001b[0m\n\u001b[1;32m--> 117\u001b[1;33m             \u001b[0mself\u001b[0m\u001b[1;33m.\u001b[0m\u001b[0m_add_wire\u001b[0m\u001b[1;33m(\u001b[0m\u001b[0mqreg\u001b[0m\u001b[1;33m[\u001b[0m\u001b[0mj\u001b[0m\u001b[1;33m]\u001b[0m\u001b[1;33m)\u001b[0m\u001b[1;33m\u001b[0m\u001b[1;33m\u001b[0m\u001b[0m\n\u001b[0m\u001b[0;32m    118\u001b[0m \u001b[1;33m\u001b[0m\u001b[0m\n\u001b[0;32m    119\u001b[0m     \u001b[1;32mdef\u001b[0m \u001b[0madd_creg\u001b[0m\u001b[1;33m(\u001b[0m\u001b[0mself\u001b[0m\u001b[1;33m,\u001b[0m \u001b[0mcreg\u001b[0m\u001b[1;33m)\u001b[0m\u001b[1;33m:\u001b[0m\u001b[1;33m\u001b[0m\u001b[1;33m\u001b[0m\u001b[0m\n",
      "\u001b[1;32mc:\\users\\hrush\\.conda\\envs\\quantum_computing\\lib\\site-packages\\qiskit\\dagcircuit\\dagcircuit.py\u001b[0m in \u001b[0;36m_add_wire\u001b[1;34m(self, wire)\u001b[0m\n\u001b[0;32m    164\u001b[0m \u001b[1;33m\u001b[0m\u001b[0m\n\u001b[0;32m    165\u001b[0m             \u001b[0mself\u001b[0m\u001b[1;33m.\u001b[0m\u001b[0m_multi_graph\u001b[0m\u001b[1;33m.\u001b[0m\u001b[0madj\u001b[0m\u001b[1;33m[\u001b[0m\u001b[0minp_node\u001b[0m\u001b[1;33m]\u001b[0m\u001b[1;33m[\u001b[0m\u001b[0moutp_node\u001b[0m\u001b[1;33m]\u001b[0m\u001b[1;33m[\u001b[0m\u001b[1;36m0\u001b[0m\u001b[1;33m]\u001b[0m\u001b[1;33m[\u001b[0m\u001b[1;34m\"name\"\u001b[0m\u001b[1;33m]\u001b[0m\u001b[0;31m \u001b[0m\u001b[0;31m\\\u001b[0m\u001b[1;33m\u001b[0m\u001b[1;33m\u001b[0m\u001b[0m\n\u001b[1;32m--> 166\u001b[1;33m                 \u001b[1;33m=\u001b[0m \u001b[1;34m\"%s[%s]\"\u001b[0m \u001b[1;33m%\u001b[0m \u001b[1;33m(\u001b[0m\u001b[0mwire\u001b[0m\u001b[1;33m.\u001b[0m\u001b[0mregister\u001b[0m\u001b[1;33m.\u001b[0m\u001b[0mname\u001b[0m\u001b[1;33m,\u001b[0m \u001b[0mwire\u001b[0m\u001b[1;33m.\u001b[0m\u001b[0mindex\u001b[0m\u001b[1;33m)\u001b[0m\u001b[1;33m\u001b[0m\u001b[1;33m\u001b[0m\u001b[0m\n\u001b[0m\u001b[0;32m    167\u001b[0m             \u001b[0mself\u001b[0m\u001b[1;33m.\u001b[0m\u001b[0m_multi_graph\u001b[0m\u001b[1;33m.\u001b[0m\u001b[0madj\u001b[0m\u001b[1;33m[\u001b[0m\u001b[0minp_node\u001b[0m\u001b[1;33m]\u001b[0m\u001b[1;33m[\u001b[0m\u001b[0moutp_node\u001b[0m\u001b[1;33m]\u001b[0m\u001b[1;33m[\u001b[0m\u001b[1;36m0\u001b[0m\u001b[1;33m]\u001b[0m\u001b[1;33m[\u001b[0m\u001b[1;34m\"wire\"\u001b[0m\u001b[1;33m]\u001b[0m\u001b[0;31m \u001b[0m\u001b[0;31m\\\u001b[0m\u001b[1;33m\u001b[0m\u001b[1;33m\u001b[0m\u001b[0m\n\u001b[0;32m    168\u001b[0m                 \u001b[1;33m=\u001b[0m \u001b[0mwire\u001b[0m\u001b[1;33m\u001b[0m\u001b[1;33m\u001b[0m\u001b[0m\n",
      "\u001b[1;31mKeyboardInterrupt\u001b[0m: "
     ]
    }
   ],
   "source": [
    "noq = 2\n",
    "\n",
    "angle = [np.pi/2, np.pi/8, np.pi/6, np.pi/3]\n",
    "a = np.matrix('1 2 3 5; 5 4 3 1; 1 3 3 1; 2 3 4 7')\n",
    "b = [0.7071067, 0.7071067, 0.7071067, 0.7071067]\n",
    "a = a/np.linalg.norm(b)\n",
    "b = b/np.linalg.norm(b)\n",
    "dec_list = get_arbitary_decomposition(a)\n",
    "gate = []\n",
    "coeff = []\n",
    "for i in range(len(dec_list)):\n",
    "    if (abs(dec_list[i][0]) != 0):\n",
    "        coeff.append(dec_list[i][0])\n",
    "        gate.append(dec_list[i][1])\n",
    "\n",
    "denom = 0\n",
    "numer = 0\n",
    "cof = 0\n",
    "backend = Aer.get_backend('statevector_simulator')\n",
    "for i in range(len(coeff)):\n",
    "    for j in range(len(coeff)):\n",
    "        circ = QuantumCircuit(noq + 1,1)\n",
    "        cof = coeff[i]*coeff[j]\n",
    "        had_test_a(circ, noq, gate[i], gate[j], noq, angle)\n",
    "        circ.measure(noq, 0)\n",
    "        job = execute(circ, backend)\n",
    "        result = job.result()\n",
    "        outputstate = result.get_statevector(circ, decimals=100)\n",
    "        o = outputstate\n",
    "        m_sum = 0\n",
    "        for l in range (0, len(o)):\n",
    "            if (l%2 == 1):\n",
    "                n = float(o[l])**2\n",
    "                m_sum+=n\n",
    "        denom += cof*m_sum\n",
    "\n",
    "for i in range(len(coeff)):\n",
    "    circ = QuantumCircuit(noq + 1,1)\n",
    "    had_test_b(circ, noq, gate[i], noq, angle, b)\n",
    "    circ.measure(noq, 0)\n",
    "    job = execute(circ, backend)\n",
    "    result = job.result()\n",
    "    outputstate = result.get_statevector(circ, decimals=100)\n",
    "    o = outputstate\n",
    "    m_sum = 0\n",
    "    for l in range (0, len(o)):\n",
    "        if (l%2 == 1):\n",
    "            n = float(o[l])**2\n",
    "            m_sum+=n\n",
    "    numer += coeff[i]*m_sum\n",
    "    \n",
    "numer *= numer \n",
    "print(1-(numer/denom))"
   ]
  },
  {
   "cell_type": "code",
   "execution_count": 76,
   "metadata": {},
   "outputs": [
    {
     "name": "stdout",
     "output_type": "stream",
     "text": [
      "[[0, 0], [0, 1], [0, 2], [0, 3], [1, 0], [1, 1], [1, 2], [2, 1], [2, 2], [2, 3], [3, 0], [3, 1], [3, 3]]\n"
     ]
    }
   ],
   "source": [
    "a = np.matrix('1 2 3 5; 5 4 3 1; 1 3 3 1; 2 3 4 7')\n",
    "b = [0.7071067, 0.7071067, 0.7071067, 0.7071067]\n",
    "a = a/np.linalg.norm(b)\n",
    "b = b/np.linalg.norm(b)\n",
    "dec_list = get_arbitary_decomposition(a)\n",
    "gate = []\n",
    "coeff = []\n",
    "for i in range(len(dec_list)):\n",
    "    if (abs(dec_list[i][0]) != 0):\n",
    "        coeff.append(dec_list[i][0])\n",
    "        gate.append(dec_list[i][1])\n",
    "print(gate)\n",
    "def calculate_cost(angle):  \n",
    "    denom = 0\n",
    "    numer = 0\n",
    "    cof = 0\n",
    "    backend = Aer.get_backend('statevector_simulator')\n",
    "    for i in range(len(coeff)):\n",
    "        for j in range(len(coeff)):\n",
    "            circ = QuantumCircuit(noq + 1,1)\n",
    "            cof = coeff[i]*coeff[j]\n",
    "            had_test_a(circ, noq, gate[i], gate[j], noq, angle)\n",
    "            circ.measure(noq, 0)\n",
    "            job = execute(circ, backend)\n",
    "            result = job.result()\n",
    "            outputstate = result.get_statevector(circ, decimals=100)\n",
    "            o = outputstate\n",
    "            m_sum = 0\n",
    "            for l in range (0, len(o)):\n",
    "                if (l%2 == 1):\n",
    "                    n = float(o[l])**2\n",
    "                    m_sum+=n\n",
    "            denom += cof*m_sum\n",
    "            circ = QuantumCircuit(noq + 1,1)\n",
    "            had_test_a(circ, noq, gate[i], gate[j], noq, angle, True)\n",
    "            circ.measure(noq, 0)\n",
    "            job = execute(circ, backend)\n",
    "            result = job.result()\n",
    "            outputstate = result.get_statevector(circ, decimals=100)\n",
    "            o = outputstate\n",
    "            m_sum = 0\n",
    "            for l in range (0, len(o)):\n",
    "                if (l%2 == 1):\n",
    "                    n = float(o[l])**2\n",
    "                    m_sum+=n\n",
    "            denom += j*cof*m_sum\n",
    "    \n",
    "    for i in range(len(coeff)):\n",
    "        for j in range(len(coeff)):\n",
    "            qc = QuantumCircuit(2*noq + 1, 1)\n",
    "            Hadamard_Overlap_Test(qc ,noq, b, angle, gate[i], gate[j])\n",
    "            job = execute(qc, backend)\n",
    "            result = job.result()\n",
    "            outputstate = result.get_statevector(qc, decimals=100)\n",
    "            o = outputstate\n",
    "            m_sum = 0\n",
    "            for l in range (0, len(o)):\n",
    "                if (l%2 == 1):\n",
    "                    n = float(o[l])**2\n",
    "                    m_sum+=n\n",
    "            numer += coeff[i]*coeff[j]*m_sum\n",
    "            qc = QuantumCircuit(2*noq + 1, 1)\n",
    "            Hadamard_Overlap_Test(qc ,noq, b, angle, gate[i], gate[j], True)\n",
    "            job = execute(qc, backend)\n",
    "            result = job.result()\n",
    "            outputstate = result.get_statevector(qc, decimals=100)\n",
    "            o = outputstate\n",
    "            m_sum = 0\n",
    "            for l in range (0, len(o)):\n",
    "                if (l%2 == 1):\n",
    "                    n = float(o[l])**2\n",
    "                    m_sum+=n\n",
    "            numer += j*coeff[i]*coeff[j]*m_sum\n",
    "         \n",
    "    return abs(1-(numer/denom))  "
   ]
  },
  {
   "cell_type": "code",
   "execution_count": null,
   "metadata": {},
   "outputs": [
    {
     "name": "stderr",
     "output_type": "stream",
     "text": [
      "c:\\users\\hrush\\.conda\\envs\\quantum_computing\\lib\\site-packages\\ipykernel_launcher.py:31: ComplexWarning: Casting complex values to real discards the imaginary part\n",
      "c:\\users\\hrush\\.conda\\envs\\quantum_computing\\lib\\site-packages\\ipykernel_launcher.py:44: ComplexWarning: Casting complex values to real discards the imaginary part\n",
      "c:\\users\\hrush\\.conda\\envs\\quantum_computing\\lib\\site-packages\\ipykernel_launcher.py:59: ComplexWarning: Casting complex values to real discards the imaginary part\n",
      "c:\\users\\hrush\\.conda\\envs\\quantum_computing\\lib\\site-packages\\ipykernel_launcher.py:71: ComplexWarning: Casting complex values to real discards the imaginary part\n"
     ]
    }
   ],
   "source": [
    "angle = [np.pi/2, np.pi/8, np.pi/6, np.pi/3]\n",
    "maxiter = 2000000\n",
    "iters = 0 \n",
    "threshold = 0.00000047\n",
    "out = minimize(calculate_cost, x0=angle, method=\"COBYLA\", options={'maxiter':2000}, tol = threshold)\n",
    "print(out)"
   ]
  },
  {
   "cell_type": "code",
   "execution_count": 31,
   "metadata": {},
   "outputs": [
    {
     "name": "stdout",
     "output_type": "stream",
     "text": [
      "[[ 0.15249857]\n",
      " [-0.60999428]\n",
      " [ 0.76249285]\n",
      " [-0.15249857]]\n"
     ]
    }
   ],
   "source": [
    "a = np.matrix('1 2 3 5; 5 4 3 1; 1 3 3 1; 2 3 4 7')\n",
    "b = np.matrix('0.7071067;0.7071067;0.7071067;0.7071067')\n",
    "ans = np.linalg.inv(a)*b\n",
    "print((ans)/np.linalg.norm(ans))"
   ]
  },
  {
   "cell_type": "code",
   "execution_count": 77,
   "metadata": {},
   "outputs": [],
   "source": [
    "def Hadamard_Overlap_Test(qc ,noq, b, angle, gate, gate_trans,bIm = False):\n",
    "    qc.h(2*noq)\n",
    "    generate_ansatz(noq, qc, angle)\n",
    "    append_A_matrix(qc, gate, 2*noq, 0, noq)\n",
    "    qc.initialize(b, range(noq, 2*noq))\n",
    "    append_A_matrix(qc, gate_trans, 2*noq, noq, 2*noq)\n",
    "    qc.barrier()\n",
    "    for i in range(0, noq):\n",
    "        qc.cx(i, noq+i)\n",
    "    qc.h(2*noq)\n",
    "    if (bIm):\n",
    "        qc.rz(np.pi/2, 2*noq)\n",
    "    qc.measure(2*noq, 0)\n",
    "    "
   ]
  },
  {
   "cell_type": "code",
   "execution_count": 35,
   "metadata": {},
   "outputs": [
    {
     "name": "stdout",
     "output_type": "stream",
     "text": [
      "range(0, 2)\n"
     ]
    }
   ],
   "source": [
    "print(range(2))"
   ]
  },
  {
   "cell_type": "code",
   "execution_count": null,
   "metadata": {},
   "outputs": [],
   "source": []
  }
 ],
 "metadata": {
  "kernelspec": {
   "display_name": "Python 3",
   "language": "python",
   "name": "python3"
  },
  "language_info": {
   "codemirror_mode": {
    "name": "ipython",
    "version": 3
   },
   "file_extension": ".py",
   "mimetype": "text/x-python",
   "name": "python",
   "nbconvert_exporter": "python",
   "pygments_lexer": "ipython3",
   "version": "3.7.4"
  }
 },
 "nbformat": 4,
 "nbformat_minor": 2
}
