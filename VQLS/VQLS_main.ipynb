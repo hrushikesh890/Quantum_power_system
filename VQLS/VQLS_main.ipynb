{
 "cells": [
  {
   "cell_type": "code",
   "execution_count": 2,
   "metadata": {},
   "outputs": [],
   "source": [
    "import qiskit\n",
    "from qiskit import QuantumCircuit, QuantumRegister, ClassicalRegister\n",
    "from qiskit import Aer, execute\n",
    "import math\n",
    "import random\n",
    "import numpy as np\n",
    "from scipy.optimize import minimize"
   ]
  },
  {
   "cell_type": "code",
   "execution_count": 3,
   "metadata": {},
   "outputs": [],
   "source": [
    "def generate_ansatz(noq, qc, angle):\n",
    "    depth = noq\n",
    "    off = 0\n",
    "    for j in range(depth):\n",
    "        for i in range(noq):\n",
    "            qc.ry(angle[off + i], i)\n",
    "            if (i != 0 and j != (depth - 1)):\n",
    "                qc.cz(0,i)\n",
    "        off += i+1"
   ]
  },
  {
   "cell_type": "code",
   "execution_count": 13,
   "metadata": {},
   "outputs": [],
   "source": [
    "def had_test_b(qc, ancilla_index, gate, noq, angle, b):\n",
    "    qc.h(ancilla_index)\n",
    "    generate_ansatz(noq, qc, angle)\n",
    "    append_A_matrix(qc, gate, ancilla_index)\n",
    "    append_A_matrix(qc, gate, ancilla_index)\n",
    "    generate_B(noq, qc, b)\n",
    "    qc.h(ancilla_index)"
   ]
  },
  {
   "cell_type": "code",
   "execution_count": 42,
   "metadata": {},
   "outputs": [],
   "source": [
    "def append_A_matrix(qc, gate, ancilla):\n",
    "    for i in range(len(gate)):\n",
    "        if (gate[i] == 1):\n",
    "             qc.cx(ancilla, i)\n",
    "        if (gate[i] == 2):\n",
    "            qc.cy(ancilla, i)   \n",
    "        if (gate[i] == 3):\n",
    "            qc.cz(ancilla, i)             "
   ]
  },
  {
   "cell_type": "code",
   "execution_count": 25,
   "metadata": {},
   "outputs": [],
   "source": [
    "def generate_B(noq, qc, b):\n",
    "    qc.initialize(b, range(noq))"
   ]
  },
  {
   "cell_type": "code",
   "execution_count": 45,
   "metadata": {},
   "outputs": [],
   "source": [
    "def had_test_a(qc, ancilla_index, gate, gate_trans, noq, angle):\n",
    "    qc.h(ancilla_index)\n",
    "    generate_ansatz(noq, qc, angle)\n",
    "    append_A_matrix(qc, gate, ancilla_index)\n",
    "    append_A_matrix(qc, gate_trans, ancilla_index)\n",
    "    qc.h(ancilla_index)"
   ]
  },
  {
   "cell_type": "code",
   "execution_count": 29,
   "metadata": {},
   "outputs": [],
   "source": [
    "import numpy as np\n",
    "I = np.asmatrix('1 0;0 1')\n",
    "X = np.asmatrix('0 1;1 0')\n",
    "Y = np.asmatrix('0 0-1j;0+1j 0')\n",
    "Z = np.asmatrix('1 0;0 -1')\n",
    "pauli_i = [I, 0]\n",
    "pauli_x = [X, 1]\n",
    "pauli_y = [Y, 2]\n",
    "pauli_z = [Z, 3]\n",
    "\n",
    "def get_basis_set(num_of_qubit = 1):\n",
    "    basis_set = [pauli_i, pauli_x, pauli_y, pauli_z]\n",
    "    int_set = [pauli_i, pauli_x, pauli_y, pauli_z]\n",
    "    temp_set = []\n",
    "    for i in range (num_of_qubit-1):\n",
    "        for j in range (len(basis_set)):\n",
    "            for k in range (len(int_set)):\n",
    "                a = basis_set[j]\n",
    "                b = int_set[k]\n",
    "                #temp_set.append()\n",
    "                temp_set.append([np.kron(a[0],b[0]),[a[1],b[1]]])\n",
    "        int_set = temp_set\n",
    "        #print(int_set)\n",
    "        temp_set = []\n",
    "    return int_set\n",
    "\n",
    "def get_decomposition(A, num_of_q):\n",
    "    basis = get_basis_set(num_of_q)\n",
    "    dec_list = []\n",
    "    for i in range(len(basis)):\n",
    "        b = basis[i]\n",
    "        coeff = np.trace(A*b[0])/(2**num_of_q)\n",
    "        dec_list.append([coeff, b[1]])\n",
    "    return dec_list\n",
    "def get_arbitary_decomposition(A):\n",
    "    size = A.shape\n",
    "    size = size[0]\n",
    "    power = math.log2(size)\n",
    "    p = int(power)\n",
    "    if (p != power):\n",
    "        p += 1\n",
    "    ret = np.zeros([2**p,2**p], dtype = float)\n",
    "    ret[:size, :size] = A\n",
    "    for i in range(size, 2**p):\n",
    "        ret[i,i] = 1\n",
    "    return get_decomposition(ret, p)"
   ]
  },
  {
   "cell_type": "code",
   "execution_count": 55,
   "metadata": {},
   "outputs": [
    {
     "name": "stderr",
     "output_type": "stream",
     "text": [
      "c:\\users\\hrush\\.conda\\envs\\quantum_computing\\lib\\site-packages\\ipykernel_launcher.py:32: ComplexWarning: Casting complex values to real discards the imaginary part\n",
      "c:\\users\\hrush\\.conda\\envs\\quantum_computing\\lib\\site-packages\\ipykernel_launcher.py:47: ComplexWarning: Casting complex values to real discards the imaginary part\n"
     ]
    },
    {
     "name": "stdout",
     "output_type": "stream",
     "text": [
      "(0.6188735286550548-0.03553539355633342j)\n"
     ]
    }
   ],
   "source": [
    "noq = 2\n",
    "\n",
    "angle = [np.pi/2, np.pi/8, np.pi/6, np.pi/3]\n",
    "a = np.matrix('1 2 3 5; 5 4 3 1; 1 3 3 1; 2 3 4 7')\n",
    "b = [0.7071067, 0.7071067, 0.7071067, 0.7071067]\n",
    "a = a/np.linalg.norm(b)\n",
    "b = b/np.linalg.norm(b)\n",
    "dec_list = get_arbitary_decomposition(a)\n",
    "gate = []\n",
    "coeff = []\n",
    "for i in range(len(dec_list)):\n",
    "    coeff.append(dec_list[i][0])\n",
    "    gate.append(dec_list[i][1])\n",
    "\n",
    "denom = 0\n",
    "numer = 0\n",
    "cof = 0\n",
    "backend = Aer.get_backend('statevector_simulator')\n",
    "for i in range(len(coeff)):\n",
    "    for j in range(len(coeff)):\n",
    "        circ = QuantumCircuit(noq + 1,1)\n",
    "        cof = coeff[i]*coeff[j]\n",
    "        had_test_a(circ, noq, gate[i], gate[j], noq, angle)\n",
    "        circ.measure(noq, 0)\n",
    "        job = execute(circ, backend)\n",
    "        result = job.result()\n",
    "        outputstate = result.get_statevector(circ, decimals=100)\n",
    "        o = outputstate\n",
    "        m_sum = 0\n",
    "        for l in range (0, len(o)):\n",
    "            if (l%2 == 1):\n",
    "                n = float(o[l])**2\n",
    "                m_sum+=n\n",
    "        denom += cof*m_sum\n",
    "\n",
    "for i in range(len(coeff)):\n",
    "    circ = QuantumCircuit(noq + 1,1)\n",
    "    had_test_b(circ, noq, gate[i], noq, angle, b)\n",
    "    circ.measure(noq, 0)\n",
    "    job = execute(circ, backend)\n",
    "    result = job.result()\n",
    "    outputstate = result.get_statevector(circ, decimals=100)\n",
    "    o = outputstate\n",
    "    m_sum = 0\n",
    "    for l in range (0, len(o)):\n",
    "        if (l%2 == 1):\n",
    "            n = float(o[l])**2\n",
    "            m_sum+=n\n",
    "    numer += coeff[i]*m_sum\n",
    "    \n",
    "numer *= numer \n",
    "print(1-(numer/denom))"
   ]
  },
  {
   "cell_type": "code",
   "execution_count": 59,
   "metadata": {},
   "outputs": [],
   "source": [
    "\n",
    "def calculate_cost(angle):\n",
    "    a = np.matrix('1 2 3 5; 5 4 3 1; 1 3 3 1; 2 3 4 7')\n",
    "    b = [0.7071067, 0.7071067, 0.7071067, 0.7071067]\n",
    "    a = a/np.linalg.norm(b)\n",
    "    b = b/np.linalg.norm(b)\n",
    "    dec_list = get_arbitary_decomposition(a)\n",
    "    gate = []\n",
    "    coeff = []\n",
    "    for i in range(len(dec_list)):\n",
    "        coeff.append(dec_list[i][0])\n",
    "        gate.append(dec_list[i][1])\n",
    "    \n",
    "    denom = 0\n",
    "    numer = 0\n",
    "    cof = 0\n",
    "    backend = Aer.get_backend('statevector_simulator')\n",
    "    for i in range(len(coeff)):\n",
    "        for j in range(len(coeff)):\n",
    "            circ = QuantumCircuit(noq + 1,1)\n",
    "            cof = coeff[i]*coeff[j]\n",
    "            had_test_a(circ, noq, gate[i], gate[j], noq, angle)\n",
    "            circ.measure(noq, 0)\n",
    "            job = execute(circ, backend)\n",
    "            result = job.result()\n",
    "            outputstate = result.get_statevector(circ, decimals=100)\n",
    "            o = outputstate\n",
    "            m_sum = 0\n",
    "            for l in range (0, len(o)):\n",
    "                if (l%2 == 1):\n",
    "                    n = float(o[l])**2\n",
    "                    m_sum+=n\n",
    "            denom += cof*m_sum\n",
    "    \n",
    "    for i in range(len(coeff)):\n",
    "        circ = QuantumCircuit(noq + 1,1)\n",
    "        had_test_b(circ, noq, gate[i], noq, angle, b)\n",
    "        circ.measure(noq, 0)\n",
    "        job = execute(circ, backend)\n",
    "        result = job.result()\n",
    "        outputstate = result.get_statevector(circ, decimals=100)\n",
    "        o = outputstate\n",
    "        m_sum = 0\n",
    "        for l in range (0, len(o)):\n",
    "            if (l%2 == 1):\n",
    "                n = float(o[l])**2\n",
    "                m_sum+=n\n",
    "        numer += coeff[i]*m_sum\n",
    "        \n",
    "    numer *= numer \n",
    "    return abs(1-(numer/denom))  "
   ]
  },
  {
   "cell_type": "code",
   "execution_count": 65,
   "metadata": {},
   "outputs": [
    {
     "name": "stderr",
     "output_type": "stream",
     "text": [
      "c:\\users\\hrush\\.conda\\envs\\quantum_computing\\lib\\site-packages\\ipykernel_launcher.py:30: ComplexWarning: Casting complex values to real discards the imaginary part\n",
      "c:\\users\\hrush\\.conda\\envs\\quantum_computing\\lib\\site-packages\\ipykernel_launcher.py:45: ComplexWarning: Casting complex values to real discards the imaginary part\n"
     ]
    },
    {
     "name": "stdout",
     "output_type": "stream",
     "text": [
      "     fun: 0.26772549775605975\n",
      "   maxcv: 0.0\n",
      " message: 'Optimization terminated successfully.'\n",
      "    nfev: 66\n",
      "  status: 1\n",
      " success: True\n",
      "       x: array([ 0.29938778,  0.12390798,  0.2118103 , -0.38052513])\n"
     ]
    }
   ],
   "source": [
    "angle = [np.pi/2, np.pi/8, np.pi/6, np.pi/3]\n",
    "maxiter = 2000000\n",
    "iters = 0 \n",
    "threshold = 0.00000047\n",
    "out = minimize(calculate_cost, x0=angle, method=\"COBYLA\", options={'maxiter':2000}, tol = threshold)\n",
    "print(out)"
   ]
  },
  {
   "cell_type": "code",
   "execution_count": 31,
   "metadata": {},
   "outputs": [
    {
     "name": "stdout",
     "output_type": "stream",
     "text": [
      "[[ 0.15249857]\n",
      " [-0.60999428]\n",
      " [ 0.76249285]\n",
      " [-0.15249857]]\n"
     ]
    }
   ],
   "source": [
    "a = np.matrix('1 2 3 5; 5 4 3 1; 1 3 3 1; 2 3 4 7')\n",
    "b = np.matrix('0.7071067;0.7071067;0.7071067;0.7071067')\n",
    "ans = np.linalg.inv(a)*b\n",
    "print((ans)/np.linalg.norm(ans))"
   ]
  },
  {
   "cell_type": "code",
   "execution_count": null,
   "metadata": {},
   "outputs": [],
   "source": []
  }
 ],
 "metadata": {
  "kernelspec": {
   "display_name": "Python 3",
   "language": "python",
   "name": "python3"
  },
  "language_info": {
   "codemirror_mode": {
    "name": "ipython",
    "version": 3
   },
   "file_extension": ".py",
   "mimetype": "text/x-python",
   "name": "python",
   "nbconvert_exporter": "python",
   "pygments_lexer": "ipython3",
   "version": "3.7.4"
  }
 },
 "nbformat": 4,
 "nbformat_minor": 2
}
